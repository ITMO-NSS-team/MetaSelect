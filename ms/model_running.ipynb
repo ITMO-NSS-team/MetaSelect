{
 "cells": [
  {
   "cell_type": "code",
   "id": "initial_id",
   "metadata": {
    "collapsed": true
   },
   "source": [
    "from ms.metaresearch.selectors.model_free import *\n",
    "from ms.metaresearch.selectors.model_based import *\n",
    "from ms.metaresearch.selectors.causal import *\n",
    "from ms.metaresearch.selectors.base import *\n",
    "from ms.metaresearch.meta_learning import MetaLearner\n",
    "from sklearn.neighbors import KNeighborsClassifier\n",
    "from sklearn.neural_network import MLPClassifier\n",
    "from xgboost import XGBClassifier\n",
    "\n",
    "from ms.handler.metadata_source import TabzillaSource\n",
    "from ms.metaresearch.meta_model import MetaModel\n",
    "from sklearn.linear_model import LogisticRegression\n",
    "from sklearn.metrics import make_scorer, balanced_accuracy_score, f1_score, roc_auc_score"
   ],
   "outputs": [],
   "execution_count": null
  },
  {
   "metadata": {},
   "cell_type": "code",
   "source": "md_source = TabzillaSource()",
   "id": "c73681c76d97c041",
   "outputs": [],
   "execution_count": null
  },
  {
   "metadata": {},
   "cell_type": "code",
   "source": [
    "corr = CorrelationSelector(md_source=md_source)\n",
    "f_val = FValueSelector(md_source=md_source)\n",
    "mi = MutualInfoSelector(md_source=md_source)\n",
    "chi2 = Chi2Selector(md_source=md_source)\n",
    "xgb = XGBSelector(md_source=md_source)\n",
    "lasso = LassoSelector(md_source=md_source)\n",
    "rfe = RFESelector(md_source=md_source)\n",
    "te = TESelector(md_source=md_source)\n",
    "base = BaseSelector(md_source=md_source)"
   ],
   "id": "48ad4aebc97b22db",
   "outputs": [],
   "execution_count": null
  },
  {
   "metadata": {},
   "cell_type": "code",
   "source": [
    "# selectors = [base, corr, f_val, mi, chi2, xgb, lasso, rfe, te]\n",
    "selectors = [corr, f_val, mi, xgb, lasso, rfe]"
   ],
   "id": "c5e32fecd322e81c",
   "outputs": [],
   "execution_count": null
  },
  {
   "metadata": {},
   "cell_type": "code",
   "source": [
    "features_suffixes = [\"power\"]\n",
    "# metrics_suffixes = [\"perf_abs\", \"perf_rel\", \"diff\"]\n",
    "metrics_suffixes = [\"perf_abs\"]"
   ],
   "id": "8749383108f5821b",
   "outputs": [],
   "execution_count": null
  },
  {
   "metadata": {},
   "cell_type": "code",
   "source": [
    "grid_scoring = \"b_acc\"\n",
    "model_scoring = {\n",
    "    'b_acc': make_scorer(balanced_accuracy_score),\n",
    "    'f1': make_scorer(f1_score, average='weighted'),\n",
    "    'roc': make_scorer(\n",
    "        roc_auc_score,\n",
    "        average='weighted',\n",
    "        max_fpr=None,\n",
    "        multi_class=\"ovo\",\n",
    "        response_method=\"predict_proba\"\n",
    "    ),\n",
    "}"
   ],
   "id": "855fa55bd73bdbac",
   "outputs": [],
   "execution_count": null
  },
  {
   "metadata": {},
   "cell_type": "code",
   "source": [
    "lr = MetaModel(\n",
    "    name=\"logreg\",\n",
    "    display_name=\"Logistic Regression\",\n",
    "    model=LogisticRegression(),\n",
    "    params={\n",
    "        \"penalty\": [\"l2\"],\n",
    "        \"C\": [0.01, 0.1, 1, 10],\n",
    "        \"solver\": [\"newton-cholesky\", \"lbfgs\", \"sag\", \"saga\"],\n",
    "    }\n",
    ")\n",
    "\n",
    "mlp = MetaModel(\n",
    "    name=\"mlp\",\n",
    "    display_name=\"MLP\",\n",
    "    model=MLPClassifier(),\n",
    "    params={\n",
    "        \"hidden_layer_sizes\": [(10,), (25,), (50,)],\n",
    "        \"activation\": [\"logistic\", \"relu\", \"tanh\"],\n",
    "        \"solver\": [\"lbfgs\", \"sgd\", \"adam\"],\n",
    "        \"alpha\": [0.001, 0.01, 0.1],\n",
    "        \"batch_size\": [\"auto\", 10, 25, 50],\n",
    "        \"learning_rate\": [\"adaptive\"],\n",
    "        \"learning_rate_init\": [0.001, 0.01, 0.1],\n",
    "        \"max_iter\": [25, 50, 100, 200],\n",
    "    },\n",
    ")\n",
    "\n",
    "xgb = MetaModel(\n",
    "    name=\"xgb\",\n",
    "    display_name=\"XGBoost\",\n",
    "    model=XGBClassifier(),\n",
    "    params={\n",
    "        'max_depth': [3, 5, 7, 9],\n",
    "        'learning_rate': [0.01, 0.1, 0.3],\n",
    "        'n_estimators': [5, 10, 50, 100],\n",
    "        \"eval_metric\": [\"merror\", \"mlogloss\"],\n",
    "    },\n",
    ")\n",
    "\n",
    "knn = MetaModel(\n",
    "    name=\"knn\",\n",
    "    display_name=\"KNN\",\n",
    "    model=KNeighborsClassifier(),\n",
    "    params={\n",
    "        \"n_neighbors\": [3, 5, 7],\n",
    "        \"weights\": [\"uniform\", \"distance\"],\n",
    "        \"leaf_size\": [10, 20, 30, 50],\n",
    "        \"algorithm\": [\"auto\"],\n",
    "        \"p\": [1, 2],\n",
    "    }\n",
    ")"
   ],
   "id": "d2a56bb8117063a3",
   "outputs": [],
   "execution_count": null
  },
  {
   "metadata": {},
   "cell_type": "code",
   "source": [
    "meta_learner = MetaLearner(\n",
    "    md_source=md_source,\n",
    "    opt_scoring=grid_scoring,\n",
    "    model_scoring=model_scoring,\n",
    "    features_folder=\"preprocessed\",\n",
    "    metrics_folder=\"preprocessed\",\n",
    "    use_optuna=True,\n",
    "    opt_cv=5,\n",
    "    model_cv=10,\n",
    "    n_trials=50,\n",
    "    test_mode=False,\n",
    ")"
   ],
   "id": "22df7f692a4df6bb",
   "outputs": [],
   "execution_count": null
  },
  {
   "metadata": {},
   "cell_type": "code",
   "source": [
    "output = meta_learner.run_models(\n",
    "    models=[knn, lr, xgb, mlp],\n",
    "    feature_suffixes=features_suffixes,\n",
    "    target_suffixes=metrics_suffixes,\n",
    "    selectors_handlers=selectors,\n",
    "    rewrite=False,\n",
    "    to_save=True,\n",
    ")"
   ],
   "id": "148e514a91ab26c9",
   "outputs": [],
   "execution_count": null
  }
 ],
 "metadata": {
  "kernelspec": {
   "display_name": "Python 3",
   "language": "python",
   "name": "python3"
  },
  "language_info": {
   "codemirror_mode": {
    "name": "ipython",
    "version": 2
   },
   "file_extension": ".py",
   "mimetype": "text/x-python",
   "name": "python",
   "nbconvert_exporter": "python",
   "pygments_lexer": "ipython2",
   "version": "2.7.6"
  }
 },
 "nbformat": 4,
 "nbformat_minor": 5
}
