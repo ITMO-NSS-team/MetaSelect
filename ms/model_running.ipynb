{
 "cells": [
  {
   "cell_type": "code",
   "id": "initial_id",
   "metadata": {
    "collapsed": true,
    "ExecuteTime": {
     "end_time": "2025-02-17T21:15:41.117677Z",
     "start_time": "2025-02-17T21:15:37.847539Z"
    }
   },
   "source": [
    "from ms.metaresearch.selectors.model_free import *\n",
    "from ms.metaresearch.selectors.model_based import *\n",
    "from ms.metaresearch.selectors.causal import *\n",
    "from ms.metaresearch.selectors.base import *\n",
    "from ms.metaresearch.meta_learning import MetaLearner\n",
    "from sklearn.neighbors import KNeighborsClassifier\n",
    "from sklearn.neural_network import MLPClassifier\n",
    "from xgboost import XGBClassifier\n",
    "\n",
    "from ms.handler.metadata_source import TabzillaSource\n",
    "from ms.metaresearch.meta_model import MetaModel\n",
    "from sklearn.linear_model import LogisticRegression\n",
    "from sklearn.metrics import make_scorer, balanced_accuracy_score, f1_score, roc_auc_score"
   ],
   "outputs": [
    {
     "name": "stderr",
     "output_type": "stream",
     "text": [
      "IProgress not found. Please update jupyter and ipywidgets. See https://ipywidgets.readthedocs.io/en/stable/user_install.html\n"
     ]
    }
   ],
   "execution_count": 1
  },
  {
   "metadata": {
    "ExecuteTime": {
     "end_time": "2025-02-17T21:15:41.132975Z",
     "start_time": "2025-02-17T21:15:41.123677Z"
    }
   },
   "cell_type": "code",
   "source": "md_source = TabzillaSource()",
   "id": "c73681c76d97c041",
   "outputs": [],
   "execution_count": 2
  },
  {
   "metadata": {
    "ExecuteTime": {
     "end_time": "2025-02-17T21:15:41.372332Z",
     "start_time": "2025-02-17T21:15:41.358303Z"
    }
   },
   "cell_type": "code",
   "source": [
    "corr = CorrelationSelector(md_source=md_source)\n",
    "f_val = FValueSelector(md_source=md_source)\n",
    "mi = MutualInfoSelector(md_source=md_source)\n",
    "chi2 = Chi2Selector(md_source=md_source)\n",
    "xgb = XGBSelector(md_source=md_source)\n",
    "lasso = LassoSelector(md_source=md_source)\n",
    "rfe = RFESelector(md_source=md_source)\n",
    "te = TESelector(md_source=md_source)\n",
    "base = BaseSelector(md_source=md_source)"
   ],
   "id": "48ad4aebc97b22db",
   "outputs": [],
   "execution_count": 3
  },
  {
   "metadata": {
    "ExecuteTime": {
     "end_time": "2025-02-17T21:15:41.403344Z",
     "start_time": "2025-02-17T21:15:41.390338Z"
    }
   },
   "cell_type": "code",
   "source": [
    "# selectors = [base, corr, f_val, mi, chi2, xgb, lasso, rfe, te]\n",
    "selectors = [corr]"
   ],
   "id": "c5e32fecd322e81c",
   "outputs": [],
   "execution_count": 4
  },
  {
   "metadata": {
    "ExecuteTime": {
     "end_time": "2025-02-17T21:15:41.434351Z",
     "start_time": "2025-02-17T21:15:41.421343Z"
    }
   },
   "cell_type": "code",
   "source": [
    "features_suffixes = [\"power\"]\n",
    "# metrics_suffixes = [\"perf_abs\", \"perf_rel\", \"diff\"]\n",
    "metrics_suffixes = [\"perf_abs\"]"
   ],
   "id": "8749383108f5821b",
   "outputs": [],
   "execution_count": 5
  },
  {
   "metadata": {
    "ExecuteTime": {
     "end_time": "2025-02-17T21:15:41.466358Z",
     "start_time": "2025-02-17T21:15:41.452360Z"
    }
   },
   "cell_type": "code",
   "source": [
    "grid_scoring = \"b_acc\"\n",
    "model_scoring = {\n",
    "    'b_acc': make_scorer(balanced_accuracy_score),\n",
    "    'f1': make_scorer(f1_score, average='weighted'),\n",
    "    'roc': make_scorer(\n",
    "        roc_auc_score,\n",
    "        average='weighted',\n",
    "        max_fpr=None,\n",
    "        multi_class=\"ovo\",\n",
    "        response_method=\"predict_proba\"\n",
    "    ),\n",
    "}"
   ],
   "id": "855fa55bd73bdbac",
   "outputs": [],
   "execution_count": 6
  },
  {
   "metadata": {
    "ExecuteTime": {
     "end_time": "2025-02-17T21:15:41.498421Z",
     "start_time": "2025-02-17T21:15:41.484361Z"
    }
   },
   "cell_type": "code",
   "source": [
    "lr = MetaModel(\n",
    "    name=\"logreg\",\n",
    "    display_name=\"Logistic Regression\",\n",
    "    model=LogisticRegression(),\n",
    "    params={\n",
    "        \"penalty\": [\"l2\"],\n",
    "        \"C\": [0.01, 0.1, 1, 10],\n",
    "        \"solver\": [\"newton-cholesky\", \"lbfgs\", \"sag\", \"saga\"],\n",
    "    }\n",
    ")\n",
    "\n",
    "mlp = MetaModel(\n",
    "    name=\"mlp\",\n",
    "    display_name=\"MLP\",\n",
    "    model=MLPClassifier(),\n",
    "    params={\n",
    "        \"hidden_layer_sizes\": [(10,), (25,), (50,)],\n",
    "        \"activation\": [\"logistic\", \"relu\", \"tanh\"],\n",
    "        \"solver\": [\"lbfgs\", \"sgd\", \"adam\"],\n",
    "        \"alpha\": [0.001, 0.01, 0.1],\n",
    "        \"batch_size\": [\"auto\", 10, 25, 50],\n",
    "        \"learning_rate\": [\"adaptive\"],\n",
    "        \"learning_rate_init\": [0.001, 0.01, 0.1],\n",
    "        \"max_iter\": [25, 50, 100, 200],\n",
    "    },\n",
    ")\n",
    "\n",
    "xgb = MetaModel(\n",
    "    name=\"xgb\",\n",
    "    display_name=\"XGBoost\",\n",
    "    model=XGBClassifier(),\n",
    "    params={\n",
    "        'max_depth': [3, 5, 7, 9],\n",
    "        'learning_rate': [0.01, 0.1, 0.3],\n",
    "        'n_estimators': [5, 10, 50, 100],\n",
    "        \"eval_metric\": [\"merror\", \"mlogloss\"],\n",
    "    },\n",
    ")\n",
    "\n",
    "knn = MetaModel(\n",
    "    name=\"knn\",\n",
    "    display_name=\"KNN\",\n",
    "    model=KNeighborsClassifier(),\n",
    "    params={\n",
    "        \"n_neighbors\": [3, 5, 7],\n",
    "        \"weights\": [\"uniform\", \"distance\"],\n",
    "        \"leaf_size\": [10, 20, 30, 50],\n",
    "        \"algorithm\": [\"auto\"],\n",
    "        \"p\": [1, 2],\n",
    "    }\n",
    ")"
   ],
   "id": "d2a56bb8117063a3",
   "outputs": [],
   "execution_count": 7
  },
  {
   "metadata": {
    "ExecuteTime": {
     "end_time": "2025-02-17T21:15:41.530430Z",
     "start_time": "2025-02-17T21:15:41.516430Z"
    }
   },
   "cell_type": "code",
   "source": [
    "meta_learner = MetaLearner(\n",
    "    md_source=md_source,\n",
    "    opt_scoring=grid_scoring,\n",
    "    model_scoring=model_scoring,\n",
    "    features_folder=\"preprocessed\",\n",
    "    metrics_folder=\"preprocessed\",\n",
    "    use_optuna=True,\n",
    "    opt_cv=5,\n",
    "    model_cv=10,\n",
    "    n_trials=50,\n",
    "    test_mode=False,\n",
    ")"
   ],
   "id": "22df7f692a4df6bb",
   "outputs": [],
   "execution_count": 8
  },
  {
   "metadata": {
    "ExecuteTime": {
     "end_time": "2025-02-17T21:20:16.708095Z",
     "start_time": "2025-02-17T21:15:41.548434Z"
    }
   },
   "cell_type": "code",
   "source": [
    "output = meta_learner.run_models(\n",
    "    models=[knn, lr, xgb, mlp],\n",
    "    feature_suffixes=features_suffixes,\n",
    "    target_suffixes=metrics_suffixes,\n",
    "    selectors_handlers=selectors,\n",
    "    rewrite=False,\n",
    "    to_save=True,\n",
    ")"
   ],
   "id": "148e514a91ab26c9",
   "outputs": [
    {
     "name": "stdout",
     "output_type": "stream",
     "text": [
      "Feature suffix: power\n",
      "Selector: corr\n",
      "Target file: metrics__perf_abs.csv\n",
      "Metamodel: knn\n",
      "Sample size: 20\n",
      "Iter: 0\n",
      "Meta-model: knn\n",
      "Training on target model LinearModel__absperf\n",
      "Optimizing hyperparameters for LinearModel__absperf using Optuna\n",
      "Training on target model RandomForest__absperf\n",
      "Optimizing hyperparameters for RandomForest__absperf using Optuna\n",
      "Training on target model XGBoost__absperf\n",
      "Optimizing hyperparameters for XGBoost__absperf using Optuna\n",
      "Training on target model rtdl_FTTransformer__absperf\n",
      "Optimizing hyperparameters for rtdl_FTTransformer__absperf using Optuna\n",
      "Training on target model rtdl_MLP__absperf\n",
      "Optimizing hyperparameters for rtdl_MLP__absperf using Optuna\n",
      "Training on target model rtdl_ResNet__absperf\n",
      "Optimizing hyperparameters for rtdl_ResNet__absperf using Optuna\n"
     ]
    },
    {
     "name": "stderr",
     "output_type": "stream",
     "text": [
      "DataFrame.groupby with axis=1 is deprecated. Do `frame.T.groupby(...)` without axis instead.\n"
     ]
    },
    {
     "name": "stdout",
     "output_type": "stream",
     "text": [
      "Iter: 1\n",
      "Meta-model: knn\n",
      "Training on target model LinearModel__absperf\n",
      "Optimizing hyperparameters for LinearModel__absperf using Optuna\n",
      "Training on target model RandomForest__absperf\n",
      "Optimizing hyperparameters for RandomForest__absperf using Optuna\n",
      "Training on target model XGBoost__absperf\n",
      "Optimizing hyperparameters for XGBoost__absperf using Optuna\n",
      "Training on target model rtdl_FTTransformer__absperf\n",
      "Optimizing hyperparameters for rtdl_FTTransformer__absperf using Optuna\n",
      "Training on target model rtdl_MLP__absperf\n",
      "Optimizing hyperparameters for rtdl_MLP__absperf using Optuna\n",
      "Training on target model rtdl_ResNet__absperf\n",
      "Optimizing hyperparameters for rtdl_ResNet__absperf using Optuna\n"
     ]
    },
    {
     "name": "stderr",
     "output_type": "stream",
     "text": [
      "DataFrame.groupby with axis=1 is deprecated. Do `frame.T.groupby(...)` without axis instead.\n"
     ]
    },
    {
     "name": "stdout",
     "output_type": "stream",
     "text": [
      "Iter: 2\n",
      "Meta-model: knn\n",
      "Training on target model LinearModel__absperf\n",
      "Optimizing hyperparameters for LinearModel__absperf using Optuna\n",
      "Training on target model RandomForest__absperf\n",
      "Optimizing hyperparameters for RandomForest__absperf using Optuna\n",
      "Training on target model XGBoost__absperf\n",
      "Optimizing hyperparameters for XGBoost__absperf using Optuna\n",
      "Training on target model rtdl_FTTransformer__absperf\n",
      "Optimizing hyperparameters for rtdl_FTTransformer__absperf using Optuna\n",
      "Training on target model rtdl_MLP__absperf\n",
      "Optimizing hyperparameters for rtdl_MLP__absperf using Optuna\n",
      "Training on target model rtdl_ResNet__absperf\n",
      "Optimizing hyperparameters for rtdl_ResNet__absperf using Optuna\n"
     ]
    },
    {
     "name": "stderr",
     "output_type": "stream",
     "text": [
      "DataFrame.groupby with axis=1 is deprecated. Do `frame.T.groupby(...)` without axis instead.\n"
     ]
    },
    {
     "name": "stdout",
     "output_type": "stream",
     "text": [
      "Iter: 3\n",
      "Meta-model: knn\n",
      "Training on target model LinearModel__absperf\n",
      "Optimizing hyperparameters for LinearModel__absperf using Optuna\n",
      "Training on target model RandomForest__absperf\n",
      "Optimizing hyperparameters for RandomForest__absperf using Optuna\n",
      "Training on target model XGBoost__absperf\n",
      "Optimizing hyperparameters for XGBoost__absperf using Optuna\n",
      "Training on target model rtdl_FTTransformer__absperf\n",
      "Optimizing hyperparameters for rtdl_FTTransformer__absperf using Optuna\n",
      "Training on target model rtdl_MLP__absperf\n",
      "Optimizing hyperparameters for rtdl_MLP__absperf using Optuna\n",
      "Training on target model rtdl_ResNet__absperf\n",
      "Optimizing hyperparameters for rtdl_ResNet__absperf using Optuna\n"
     ]
    },
    {
     "name": "stderr",
     "output_type": "stream",
     "text": [
      "DataFrame.groupby with axis=1 is deprecated. Do `frame.T.groupby(...)` without axis instead.\n"
     ]
    },
    {
     "name": "stdout",
     "output_type": "stream",
     "text": [
      "Iter: 4\n",
      "Meta-model: knn\n",
      "Training on target model LinearModel__absperf\n",
      "Optimizing hyperparameters for LinearModel__absperf using Optuna\n",
      "Training on target model RandomForest__absperf\n",
      "Optimizing hyperparameters for RandomForest__absperf using Optuna\n",
      "Training on target model XGBoost__absperf\n",
      "Optimizing hyperparameters for XGBoost__absperf using Optuna\n",
      "Training on target model rtdl_FTTransformer__absperf\n",
      "Optimizing hyperparameters for rtdl_FTTransformer__absperf using Optuna\n",
      "Training on target model rtdl_MLP__absperf\n",
      "Optimizing hyperparameters for rtdl_MLP__absperf using Optuna\n",
      "Training on target model rtdl_ResNet__absperf\n",
      "Optimizing hyperparameters for rtdl_ResNet__absperf using Optuna\n"
     ]
    },
    {
     "name": "stderr",
     "output_type": "stream",
     "text": [
      "DataFrame.groupby with axis=1 is deprecated. Do `frame.T.groupby(...)` without axis instead.\n"
     ]
    },
    {
     "name": "stdout",
     "output_type": "stream",
     "text": [
      "Sample size: 30\n",
      "Iter: 0\n",
      "Meta-model: knn\n",
      "Training on target model LinearModel__absperf\n",
      "Optimizing hyperparameters for LinearModel__absperf using Optuna\n",
      "Training on target model RandomForest__absperf\n",
      "Optimizing hyperparameters for RandomForest__absperf using Optuna\n",
      "Training on target model XGBoost__absperf\n",
      "Optimizing hyperparameters for XGBoost__absperf using Optuna\n",
      "Training on target model rtdl_FTTransformer__absperf\n",
      "Optimizing hyperparameters for rtdl_FTTransformer__absperf using Optuna\n",
      "Training on target model rtdl_MLP__absperf\n",
      "Optimizing hyperparameters for rtdl_MLP__absperf using Optuna\n",
      "Training on target model rtdl_ResNet__absperf\n",
      "Optimizing hyperparameters for rtdl_ResNet__absperf using Optuna\n"
     ]
    },
    {
     "name": "stderr",
     "output_type": "stream",
     "text": [
      "DataFrame.groupby with axis=1 is deprecated. Do `frame.T.groupby(...)` without axis instead.\n"
     ]
    },
    {
     "name": "stdout",
     "output_type": "stream",
     "text": [
      "Iter: 1\n",
      "Meta-model: knn\n",
      "Training on target model LinearModel__absperf\n",
      "Optimizing hyperparameters for LinearModel__absperf using Optuna\n",
      "Training on target model RandomForest__absperf\n",
      "Optimizing hyperparameters for RandomForest__absperf using Optuna\n",
      "Training on target model XGBoost__absperf\n",
      "Optimizing hyperparameters for XGBoost__absperf using Optuna\n",
      "Training on target model rtdl_FTTransformer__absperf\n",
      "Optimizing hyperparameters for rtdl_FTTransformer__absperf using Optuna\n",
      "Training on target model rtdl_MLP__absperf\n",
      "Optimizing hyperparameters for rtdl_MLP__absperf using Optuna\n",
      "Training on target model rtdl_ResNet__absperf\n",
      "Optimizing hyperparameters for rtdl_ResNet__absperf using Optuna\n"
     ]
    },
    {
     "name": "stderr",
     "output_type": "stream",
     "text": [
      "DataFrame.groupby with axis=1 is deprecated. Do `frame.T.groupby(...)` without axis instead.\n"
     ]
    },
    {
     "name": "stdout",
     "output_type": "stream",
     "text": [
      "Iter: 2\n",
      "Meta-model: knn\n",
      "Training on target model LinearModel__absperf\n",
      "Optimizing hyperparameters for LinearModel__absperf using Optuna\n",
      "Training on target model RandomForest__absperf\n",
      "Optimizing hyperparameters for RandomForest__absperf using Optuna\n",
      "Training on target model XGBoost__absperf\n",
      "Optimizing hyperparameters for XGBoost__absperf using Optuna\n",
      "Training on target model rtdl_FTTransformer__absperf\n",
      "Optimizing hyperparameters for rtdl_FTTransformer__absperf using Optuna\n",
      "Training on target model rtdl_MLP__absperf\n",
      "Optimizing hyperparameters for rtdl_MLP__absperf using Optuna\n",
      "Training on target model rtdl_ResNet__absperf\n",
      "Optimizing hyperparameters for rtdl_ResNet__absperf using Optuna\n"
     ]
    },
    {
     "name": "stderr",
     "output_type": "stream",
     "text": [
      "DataFrame.groupby with axis=1 is deprecated. Do `frame.T.groupby(...)` without axis instead.\n"
     ]
    },
    {
     "name": "stdout",
     "output_type": "stream",
     "text": [
      "Iter: 3\n",
      "Meta-model: knn\n",
      "Training on target model LinearModel__absperf\n",
      "Optimizing hyperparameters for LinearModel__absperf using Optuna\n",
      "Training on target model RandomForest__absperf\n",
      "Optimizing hyperparameters for RandomForest__absperf using Optuna\n",
      "Training on target model XGBoost__absperf\n",
      "Optimizing hyperparameters for XGBoost__absperf using Optuna\n",
      "Training on target model rtdl_FTTransformer__absperf\n",
      "Optimizing hyperparameters for rtdl_FTTransformer__absperf using Optuna\n",
      "Training on target model rtdl_MLP__absperf\n",
      "Optimizing hyperparameters for rtdl_MLP__absperf using Optuna\n",
      "Training on target model rtdl_ResNet__absperf\n",
      "Optimizing hyperparameters for rtdl_ResNet__absperf using Optuna\n"
     ]
    },
    {
     "name": "stderr",
     "output_type": "stream",
     "text": [
      "DataFrame.groupby with axis=1 is deprecated. Do `frame.T.groupby(...)` without axis instead.\n"
     ]
    },
    {
     "name": "stdout",
     "output_type": "stream",
     "text": [
      "Iter: 4\n",
      "Meta-model: knn\n",
      "Training on target model LinearModel__absperf\n",
      "Optimizing hyperparameters for LinearModel__absperf using Optuna\n",
      "Training on target model RandomForest__absperf\n",
      "Optimizing hyperparameters for RandomForest__absperf using Optuna\n",
      "Training on target model XGBoost__absperf\n",
      "Optimizing hyperparameters for XGBoost__absperf using Optuna\n",
      "Training on target model rtdl_FTTransformer__absperf\n",
      "Optimizing hyperparameters for rtdl_FTTransformer__absperf using Optuna\n",
      "Training on target model rtdl_MLP__absperf\n",
      "Optimizing hyperparameters for rtdl_MLP__absperf using Optuna\n",
      "Training on target model rtdl_ResNet__absperf\n",
      "Optimizing hyperparameters for rtdl_ResNet__absperf using Optuna\n"
     ]
    },
    {
     "name": "stderr",
     "output_type": "stream",
     "text": [
      "DataFrame.groupby with axis=1 is deprecated. Do `frame.T.groupby(...)` without axis instead.\n"
     ]
    },
    {
     "name": "stdout",
     "output_type": "stream",
     "text": [
      "Sample size: 40\n",
      "Iter: 0\n",
      "Meta-model: knn\n",
      "Training on target model LinearModel__absperf\n",
      "Optimizing hyperparameters for LinearModel__absperf using Optuna\n",
      "Training on target model RandomForest__absperf\n",
      "Optimizing hyperparameters for RandomForest__absperf using Optuna\n",
      "Training on target model XGBoost__absperf\n",
      "Optimizing hyperparameters for XGBoost__absperf using Optuna\n",
      "Training on target model rtdl_FTTransformer__absperf\n",
      "Optimizing hyperparameters for rtdl_FTTransformer__absperf using Optuna\n",
      "Training on target model rtdl_MLP__absperf\n",
      "Optimizing hyperparameters for rtdl_MLP__absperf using Optuna\n",
      "Training on target model rtdl_ResNet__absperf\n",
      "Optimizing hyperparameters for rtdl_ResNet__absperf using Optuna\n"
     ]
    },
    {
     "name": "stderr",
     "output_type": "stream",
     "text": [
      "DataFrame.groupby with axis=1 is deprecated. Do `frame.T.groupby(...)` without axis instead.\n"
     ]
    },
    {
     "name": "stdout",
     "output_type": "stream",
     "text": [
      "Iter: 1\n",
      "Meta-model: knn\n",
      "Training on target model LinearModel__absperf\n",
      "Optimizing hyperparameters for LinearModel__absperf using Optuna\n",
      "Training on target model RandomForest__absperf\n",
      "Optimizing hyperparameters for RandomForest__absperf using Optuna\n",
      "Training on target model XGBoost__absperf\n",
      "Optimizing hyperparameters for XGBoost__absperf using Optuna\n",
      "Training on target model rtdl_FTTransformer__absperf\n",
      "Optimizing hyperparameters for rtdl_FTTransformer__absperf using Optuna\n",
      "Training on target model rtdl_MLP__absperf\n",
      "Optimizing hyperparameters for rtdl_MLP__absperf using Optuna\n",
      "Training on target model rtdl_ResNet__absperf\n",
      "Optimizing hyperparameters for rtdl_ResNet__absperf using Optuna\n"
     ]
    },
    {
     "name": "stderr",
     "output_type": "stream",
     "text": [
      "DataFrame.groupby with axis=1 is deprecated. Do `frame.T.groupby(...)` without axis instead.\n"
     ]
    },
    {
     "name": "stdout",
     "output_type": "stream",
     "text": [
      "Iter: 2\n",
      "Meta-model: knn\n",
      "Training on target model LinearModel__absperf\n",
      "Optimizing hyperparameters for LinearModel__absperf using Optuna\n",
      "Training on target model RandomForest__absperf\n",
      "Optimizing hyperparameters for RandomForest__absperf using Optuna\n",
      "Training on target model XGBoost__absperf\n",
      "Optimizing hyperparameters for XGBoost__absperf using Optuna\n",
      "Training on target model rtdl_FTTransformer__absperf\n",
      "Optimizing hyperparameters for rtdl_FTTransformer__absperf using Optuna\n",
      "Training on target model rtdl_MLP__absperf\n",
      "Optimizing hyperparameters for rtdl_MLP__absperf using Optuna\n",
      "Training on target model rtdl_ResNet__absperf\n",
      "Optimizing hyperparameters for rtdl_ResNet__absperf using Optuna\n"
     ]
    },
    {
     "name": "stderr",
     "output_type": "stream",
     "text": [
      "DataFrame.groupby with axis=1 is deprecated. Do `frame.T.groupby(...)` without axis instead.\n"
     ]
    },
    {
     "name": "stdout",
     "output_type": "stream",
     "text": [
      "Iter: 3\n",
      "Meta-model: knn\n",
      "Training on target model LinearModel__absperf\n",
      "Optimizing hyperparameters for LinearModel__absperf using Optuna\n",
      "Training on target model RandomForest__absperf\n",
      "Optimizing hyperparameters for RandomForest__absperf using Optuna\n",
      "Training on target model XGBoost__absperf\n",
      "Optimizing hyperparameters for XGBoost__absperf using Optuna\n",
      "Training on target model rtdl_FTTransformer__absperf\n",
      "Optimizing hyperparameters for rtdl_FTTransformer__absperf using Optuna\n",
      "Training on target model rtdl_MLP__absperf\n",
      "Optimizing hyperparameters for rtdl_MLP__absperf using Optuna\n",
      "Training on target model rtdl_ResNet__absperf\n",
      "Optimizing hyperparameters for rtdl_ResNet__absperf using Optuna\n"
     ]
    },
    {
     "name": "stderr",
     "output_type": "stream",
     "text": [
      "DataFrame.groupby with axis=1 is deprecated. Do `frame.T.groupby(...)` without axis instead.\n"
     ]
    },
    {
     "name": "stdout",
     "output_type": "stream",
     "text": [
      "Iter: 4\n",
      "Meta-model: knn\n",
      "Training on target model LinearModel__absperf\n",
      "Optimizing hyperparameters for LinearModel__absperf using Optuna\n",
      "Training on target model RandomForest__absperf\n",
      "Optimizing hyperparameters for RandomForest__absperf using Optuna\n",
      "Training on target model XGBoost__absperf\n",
      "Optimizing hyperparameters for XGBoost__absperf using Optuna\n",
      "Training on target model rtdl_FTTransformer__absperf\n",
      "Optimizing hyperparameters for rtdl_FTTransformer__absperf using Optuna\n",
      "Training on target model rtdl_MLP__absperf\n",
      "Optimizing hyperparameters for rtdl_MLP__absperf using Optuna\n",
      "Training on target model rtdl_ResNet__absperf\n",
      "Optimizing hyperparameters for rtdl_ResNet__absperf using Optuna\n"
     ]
    },
    {
     "name": "stderr",
     "output_type": "stream",
     "text": [
      "DataFrame.groupby with axis=1 is deprecated. Do `frame.T.groupby(...)` without axis instead.\n"
     ]
    },
    {
     "name": "stdout",
     "output_type": "stream",
     "text": [
      "Sample size: 50\n",
      "Iter: 0\n",
      "Meta-model: knn\n",
      "Training on target model LinearModel__absperf\n",
      "Optimizing hyperparameters for LinearModel__absperf using Optuna\n",
      "Training on target model RandomForest__absperf\n",
      "Optimizing hyperparameters for RandomForest__absperf using Optuna\n",
      "Training on target model XGBoost__absperf\n",
      "Optimizing hyperparameters for XGBoost__absperf using Optuna\n",
      "Training on target model rtdl_FTTransformer__absperf\n",
      "Optimizing hyperparameters for rtdl_FTTransformer__absperf using Optuna\n",
      "Training on target model rtdl_MLP__absperf\n",
      "Optimizing hyperparameters for rtdl_MLP__absperf using Optuna\n"
     ]
    },
    {
     "name": "stderr",
     "output_type": "stream",
     "text": [
      "[W 2025-02-18 00:20:16,502] Trial 33 failed with parameters: {'n_neighbors': 3, 'weights': 'distance', 'leaf_size': 44, 'algorithm': 'auto', 'p': 1} because of the following error: KeyboardInterrupt().\n",
      "Traceback (most recent call last):\n",
      "  File \"D:\\python_projects\\MetaSelect\\venv\\lib\\site-packages\\optuna\\study\\_optimize.py\", line 197, in _run_trial\n",
      "    value_or_values = func(trial)\n",
      "  File \"D:\\python_projects\\MetaSelect\\ms\\metaresearch\\meta_model.py\", line 50, in <lambda>\n",
      "    lambda trial: self.objective(\n",
      "  File \"D:\\python_projects\\MetaSelect\\ms\\metaresearch\\meta_model.py\", line 111, in objective\n",
      "    cv_results = cross_validate(\n",
      "  File \"D:\\python_projects\\MetaSelect\\venv\\lib\\site-packages\\sklearn\\utils\\_param_validation.py\", line 213, in wrapper\n",
      "    return func(*args, **kwargs)\n",
      "  File \"D:\\python_projects\\MetaSelect\\venv\\lib\\site-packages\\sklearn\\model_selection\\_validation.py\", line 423, in cross_validate\n",
      "    results = parallel(\n",
      "  File \"D:\\python_projects\\MetaSelect\\venv\\lib\\site-packages\\sklearn\\utils\\parallel.py\", line 74, in __call__\n",
      "    return super().__call__(iterable_with_config)\n",
      "  File \"D:\\python_projects\\MetaSelect\\venv\\lib\\site-packages\\joblib\\parallel.py\", line 1918, in __call__\n",
      "    return output if self.return_generator else list(output)\n",
      "  File \"D:\\python_projects\\MetaSelect\\venv\\lib\\site-packages\\joblib\\parallel.py\", line 1847, in _get_sequential_output\n",
      "    res = func(*args, **kwargs)\n",
      "  File \"D:\\python_projects\\MetaSelect\\venv\\lib\\site-packages\\sklearn\\utils\\parallel.py\", line 136, in __call__\n",
      "    return self.function(*args, **kwargs)\n",
      "  File \"D:\\python_projects\\MetaSelect\\venv\\lib\\site-packages\\sklearn\\model_selection\\_validation.py\", line 910, in _fit_and_score\n",
      "    test_scores = _score(\n",
      "  File \"D:\\python_projects\\MetaSelect\\venv\\lib\\site-packages\\sklearn\\model_selection\\_validation.py\", line 971, in _score\n",
      "    scores = scorer(estimator, X_test, y_test, **score_params)\n",
      "  File \"D:\\python_projects\\MetaSelect\\venv\\lib\\site-packages\\sklearn\\metrics\\_scorer.py\", line 279, in __call__\n",
      "    return self._score(partial(_cached_call, None), estimator, X, y_true, **_kwargs)\n",
      "  File \"D:\\python_projects\\MetaSelect\\venv\\lib\\site-packages\\sklearn\\metrics\\_scorer.py\", line 371, in _score\n",
      "    y_pred = method_caller(\n",
      "  File \"D:\\python_projects\\MetaSelect\\venv\\lib\\site-packages\\sklearn\\metrics\\_scorer.py\", line 89, in _cached_call\n",
      "    result, _ = _get_response_values(\n",
      "  File \"D:\\python_projects\\MetaSelect\\venv\\lib\\site-packages\\sklearn\\utils\\_response.py\", line 211, in _get_response_values\n",
      "    y_pred = prediction_method(X)\n",
      "  File \"D:\\python_projects\\MetaSelect\\venv\\lib\\site-packages\\sklearn\\neighbors\\_classification.py\", line 274, in predict\n",
      "    neigh_dist, neigh_ind = self.kneighbors(X)\n",
      "  File \"D:\\python_projects\\MetaSelect\\venv\\lib\\site-packages\\sklearn\\neighbors\\_base.py\", line 849, in kneighbors\n",
      "    results = ArgKmin.compute(\n",
      "  File \"D:\\python_projects\\MetaSelect\\venv\\lib\\site-packages\\sklearn\\metrics\\_pairwise_distances_reduction\\_dispatcher.py\", line 278, in compute\n",
      "    return ArgKmin64.compute(\n",
      "  File \"sklearn\\\\metrics\\\\_pairwise_distances_reduction\\\\_argkmin.pyx\", line 59, in sklearn.metrics._pairwise_distances_reduction._argkmin.ArgKmin64.compute\n",
      "  File \"D:\\python_projects\\MetaSelect\\venv\\lib\\site-packages\\threadpoolctl.py\", line 592, in __exit__\n",
      "    def __exit__(self, type, value, traceback):\n",
      "KeyboardInterrupt\n",
      "[W 2025-02-18 00:20:16,513] Trial 33 failed with value None.\n",
      "\n",
      "KeyboardInterrupt\n",
      "\n"
     ]
    }
   ],
   "execution_count": 9
  }
 ],
 "metadata": {
  "kernelspec": {
   "display_name": "Python 3",
   "language": "python",
   "name": "python3"
  },
  "language_info": {
   "codemirror_mode": {
    "name": "ipython",
    "version": 2
   },
   "file_extension": ".py",
   "mimetype": "text/x-python",
   "name": "python",
   "nbconvert_exporter": "python",
   "pygments_lexer": "ipython2",
   "version": "2.7.6"
  }
 },
 "nbformat": 4,
 "nbformat_minor": 5
}
