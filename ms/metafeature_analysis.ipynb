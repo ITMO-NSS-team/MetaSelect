{
 "cells": [
  {
   "metadata": {},
   "cell_type": "markdown",
   "source": [
    "1. Download files from here: https://drive.google.com/drive/folders/1LR-ftaIeV6_KJvVz8q-xbodA-oXtJuvV?usp=sharing\n",
    "2. Place features.csv and metrics.csv to the following path from project root: resources/tabzilla/raw\n",
    "3. Run this notebook"
   ],
   "id": "a3f2312e5cbd23ca"
  },
  {
   "metadata": {
    "ExecuteTime": {
     "end_time": "2025-02-10T21:29:13.094246Z",
     "start_time": "2025-02-10T21:29:11.385141Z"
    }
   },
   "cell_type": "code",
   "source": [
    "from ms.handler.metadata_source import TabzillaSource\n",
    "from ms.metadataset.metadata_formatter import TabzillaFormatter\n",
    "from ms.metadataset.metadata_filter import TabzillaFilter\n",
    "from ms.metadataset.target_builder import TargetPerfBuilder, TargetDiffBuilder\n",
    "from ms.metadataset.metadata_preprocessor import ScalePreprocessor"
   ],
   "id": "ecab06b0d19517a0",
   "outputs": [],
   "execution_count": 1
  },
  {
   "metadata": {
    "ExecuteTime": {
     "end_time": "2025-02-10T21:29:13.109548Z",
     "start_time": "2025-02-10T21:29:13.101247Z"
    }
   },
   "cell_type": "code",
   "source": [
    "md_source = TabzillaSource()\n",
    "metric_name = \"F1__test\"\n",
    "\n",
    "model_classes = {\n",
    "    \"rtdl_FTTransformer\": \"nn\",\n",
    "    \"rtdl_MLP\": \"nn\",\n",
    "    \"rtdl_ResNet\": \"nn\",\n",
    "    \"LinearModel\": \"classic\",\n",
    "    \"RandomForest\": \"classic\",\n",
    "    \"XGBoost\": \"classic\"\n",
    "}\n",
    "\n",
    "classes_names = [\"nn\", \"classic\"]"
   ],
   "id": "d8f0331f7eedede4",
   "outputs": [],
   "execution_count": 2
  },
  {
   "metadata": {},
   "cell_type": "markdown",
   "source": [
    "Formatter handles raw TabZilla files performing fold values aggregation and metrics formatting.\n",
    "\n",
    "Formatted files will be saved here: resources/tabzilla/formatted"
   ],
   "id": "58d73a5c24b5a7b2"
  },
  {
   "metadata": {
    "ExecuteTime": {
     "end_time": "2025-02-10T21:29:18.659060Z",
     "start_time": "2025-02-10T21:29:13.572735Z"
    }
   },
   "cell_type": "code",
   "source": [
    "formatter = TabzillaFormatter(\n",
    "        features_folder=\"raw\",\n",
    "        metrics_folder=\"raw\",\n",
    "        test_mode=False,\n",
    "    )\n",
    "formatted_features = formatter.handle_features(to_save=True).shape\n",
    "formatted_metrics = formatter.handle_metrics(to_save=True).shape\n",
    "\n",
    "print(formatted_features)\n",
    "print(formatted_metrics)"
   ],
   "id": "ec231db2ec5e88ca",
   "outputs": [
    {
     "name": "stdout",
     "output_type": "stream",
     "text": [
      "(176, 1604)\n",
      "(3246, 16)\n"
     ]
    }
   ],
   "execution_count": 3
  },
  {
   "metadata": {},
   "cell_type": "markdown",
   "source": [
    "Filter performs removal of unsuitable features\n",
    "\n",
    "Filtered files will be saved here: resources/tabzilla/filtered"
   ],
   "id": "5236bcbfc66f514b"
  },
  {
   "metadata": {
    "ExecuteTime": {
     "end_time": "2025-02-10T21:29:20.674308Z",
     "start_time": "2025-02-10T21:29:18.678065Z"
    }
   },
   "cell_type": "code",
   "source": [
    "md_filter = TabzillaFilter(\n",
    "    features_folder=\"formatted\",\n",
    "    metrics_folder=\"formatted\",\n",
    "    funcs_to_exclude=[\n",
    "        \"count\",\n",
    "        \"histogram\",\n",
    "        \"iq_range\",\n",
    "        \"median\",\n",
    "        \"quantiles\",\n",
    "        \"range\",\n",
    "    ],\n",
    "    models_list=[\"XGBoost\", \"RandomForest\", \"LinearModel\",\n",
    "                     \"rtdl_ResNet\", \"rtdl_FTTransformer\", \"rtdl_MLP\"],\n",
    "    test_mode=False,\n",
    "    value_threshold=1e6,\n",
    ")\n",
    "\n",
    "filtered_features = md_filter.handle_features(to_save=True).shape\n",
    "filtered_metrics = md_filter.handle_metrics(to_save=True).shape\n",
    "\n",
    "print(filtered_features)\n",
    "print(filtered_metrics)"
   ],
   "id": "d78ac3880c1bea51",
   "outputs": [
    {
     "name": "stdout",
     "output_type": "stream",
     "text": [
      "(168, 260)\n",
      "(852, 18)\n"
     ]
    }
   ],
   "execution_count": 4
  },
  {
   "metadata": {},
   "cell_type": "markdown",
   "source": [
    "Target builder creates target with specific strategy (rank of absolute or relative performance, difference between best performing models)\n",
    "\n",
    "Targets will be saved here: resources/tabzilla/target"
   ],
   "id": "87e95c082e86378c"
  },
  {
   "metadata": {
    "ExecuteTime": {
     "end_time": "2025-02-10T21:29:20.768548Z",
     "start_time": "2025-02-10T21:29:20.692310Z"
    }
   },
   "cell_type": "code",
   "source": [
    "abs_perf_builder = TargetPerfBuilder(\n",
    "    md_source=md_source,\n",
    "    features_folder=\"filtered\",\n",
    "    metrics_folder=\"filtered\",\n",
    "    metric_name=metric_name,\n",
    "    perf_type=\"abs\",\n",
    "    n_bins=2,\n",
    "    strategy=\"quantile\",\n",
    "    test_mode=False,\n",
    ")\n",
    "\n",
    "rel_perf_builder = TargetPerfBuilder(\n",
    "    md_source=md_source,\n",
    "    features_folder=\"filtered\",\n",
    "    metrics_folder=\"filtered\",\n",
    "    metric_name=metric_name,\n",
    "    perf_type=\"rel\",\n",
    "    n_bins=3,\n",
    "    strategy=\"uniform\",\n",
    "    test_mode=False,\n",
    ")\n",
    "\n",
    "diff_builder = TargetDiffBuilder(\n",
    "    classes=classes_names,\n",
    "    model_classes=model_classes,\n",
    "    md_source=md_source,\n",
    "    features_folder=\"filtered\",\n",
    "    metrics_folder=\"filtered\",\n",
    "    metric_name=metric_name,\n",
    "    n_bins=3,\n",
    "    strategy=\"uniform\",\n",
    "    test_mode=False,\n",
    ")\n",
    "\n",
    "abs_perf = abs_perf_builder.handle_metrics().shape\n",
    "rel_perf = rel_perf_builder.handle_metrics().shape\n",
    "diff = diff_builder.handle_metrics().shape\n",
    "\n",
    "print(abs_perf)\n",
    "print(rel_perf)\n",
    "print(diff)"
   ],
   "id": "e39259eafdfcd4be",
   "outputs": [
    {
     "name": "stdout",
     "output_type": "stream",
     "text": [
      "(142, 6)\n",
      "(142, 6)\n",
      "(142, 1)\n"
     ]
    },
    {
     "name": "stderr",
     "output_type": "stream",
     "text": [
      "D:\\python_projects\\MetaSelect\\venv\\lib\\site-packages\\sklearn\\preprocessing\\_discretization.py:248: FutureWarning: In version 1.5 onwards, subsample=200_000 will be used by default. Set subsample explicitly to silence this warning in the mean time. Set subsample=None to disable subsampling explicitly.\n",
      "  warnings.warn(\n"
     ]
    }
   ],
   "execution_count": 5
  },
  {
   "metadata": {},
   "cell_type": "markdown",
   "source": [
    "Preproccesor performs data scaling with specific target. You can choose target type by passing suffix argument into preprocess method (suffix should correspond to one of the files in target folder)\n",
    "\n",
    "Preprocessed data will be saved here: resources/tabzilla/preprocessed"
   ],
   "id": "6e00b5ff2f42f81"
  },
  {
   "metadata": {
    "ExecuteTime": {
     "end_time": "2025-02-10T21:29:21.532552Z",
     "start_time": "2025-02-10T21:29:20.863613Z"
    }
   },
   "cell_type": "code",
   "source": [
    "preprocessor = ScalePreprocessor(\n",
    "    md_source=md_source,\n",
    "    features_folder=\"filtered\",\n",
    "    metrics_folder=\"target\",\n",
    "    to_scale=[\"power\"],\n",
    "    perf_type=\"abs\",\n",
    "    remove_outliers=False,\n",
    "    test_mode=False,\n",
    ")\n",
    "features, metrics = preprocessor.preprocess(\n",
    "    feature_suffix=None,\n",
    "    metrics_suffix=\"perf_abs\"\n",
    ")\n",
    "print(features.shape)\n",
    "print(metrics.shape)"
   ],
   "id": "8f182427c2bd5fff",
   "outputs": [
    {
     "name": "stdout",
     "output_type": "stream",
     "text": [
      "(137, 260)\n",
      "(137, 6)\n"
     ]
    }
   ],
   "execution_count": 6
  },
  {
   "metadata": {
    "ExecuteTime": {
     "end_time": "2025-02-10T21:29:21.610881Z",
     "start_time": "2025-02-10T21:29:21.599882Z"
    }
   },
   "cell_type": "code",
   "source": "",
   "id": "e69302238e88a745",
   "outputs": [],
   "execution_count": null
  }
 ],
 "metadata": {
  "kernelspec": {
   "display_name": "Python 3",
   "language": "python",
   "name": "python3"
  },
  "language_info": {
   "codemirror_mode": {
    "name": "ipython",
    "version": 2
   },
   "file_extension": ".py",
   "mimetype": "text/x-python",
   "name": "python",
   "nbconvert_exporter": "python",
   "pygments_lexer": "ipython2",
   "version": "2.7.6"
  }
 },
 "nbformat": 4,
 "nbformat_minor": 5
}
