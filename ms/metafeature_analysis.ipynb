{
 "cells": [
  {
   "metadata": {},
   "cell_type": "markdown",
   "source": [
    "1. Download files from here: https://drive.google.com/drive/folders/1LR-ftaIeV6_KJvVz8q-xbodA-oXtJuvV?usp=sharing\n",
    "2. Place features.csv and metrics.csv to the following path from project root: resources/tabzilla/raw\n",
    "3. Run this notebook"
   ],
   "id": "a3f2312e5cbd23ca"
  },
  {
   "metadata": {
    "ExecuteTime": {
     "end_time": "2025-02-11T16:35:21.570255Z",
     "start_time": "2025-02-11T16:35:21.548253Z"
    }
   },
   "cell_type": "code",
   "source": [
    "from ms.handler.metadata_source import TabzillaSource\n",
    "from ms.metadataset.metadata_formatter import TabzillaFormatter\n",
    "from ms.metadataset.metadata_filter import TabzillaFilter\n",
    "from ms.metadataset.target_builder import TargetPerfBuilder, TargetDiffBuilder\n",
    "from ms.metadataset.metadata_preprocessor import ScalePreprocessor, CorrelationPreprocessor"
   ],
   "id": "ecab06b0d19517a0",
   "outputs": [],
   "execution_count": 25
  },
  {
   "metadata": {
    "ExecuteTime": {
     "end_time": "2025-02-11T16:35:21.650259Z",
     "start_time": "2025-02-11T16:35:21.636259Z"
    }
   },
   "cell_type": "code",
   "source": [
    "md_source = TabzillaSource()\n",
    "metric_name = \"F1__test\"\n",
    "\n",
    "model_classes = {\n",
    "    \"rtdl_FTTransformer\": \"nn\",\n",
    "    \"rtdl_MLP\": \"nn\",\n",
    "    \"rtdl_ResNet\": \"nn\",\n",
    "    \"LinearModel\": \"classic\",\n",
    "    \"RandomForest\": \"classic\",\n",
    "    \"XGBoost\": \"classic\"\n",
    "}\n",
    "\n",
    "classes_names = [\"nn\", \"classic\"]"
   ],
   "id": "d8f0331f7eedede4",
   "outputs": [],
   "execution_count": 26
  },
  {
   "metadata": {},
   "cell_type": "markdown",
   "source": [
    "Formatter handles raw TabZilla files performing fold values aggregation and metrics formatting.\n",
    "\n",
    "Formatted files will be saved here: resources/tabzilla/formatted"
   ],
   "id": "58d73a5c24b5a7b2"
  },
  {
   "metadata": {
    "ExecuteTime": {
     "end_time": "2025-02-11T16:35:26.738769Z",
     "start_time": "2025-02-11T16:35:21.657261Z"
    }
   },
   "cell_type": "code",
   "source": [
    "formatter = TabzillaFormatter(\n",
    "        features_folder=\"raw\",\n",
    "        metrics_folder=\"raw\",\n",
    "        test_mode=False,\n",
    "    )\n",
    "formatted_features = formatter.handle_features(to_save=True).shape\n",
    "formatted_metrics = formatter.handle_metrics(to_save=True).shape\n",
    "\n",
    "print(formatted_features)\n",
    "print(formatted_metrics)"
   ],
   "id": "ec231db2ec5e88ca",
   "outputs": [
    {
     "name": "stdout",
     "output_type": "stream",
     "text": [
      "(176, 1604)\n",
      "(3246, 16)\n"
     ]
    }
   ],
   "execution_count": 27
  },
  {
   "metadata": {},
   "cell_type": "markdown",
   "source": [
    "Filter performs removal of unsuitable features\n",
    "\n",
    "Filtered files will be saved here: resources/tabzilla/filtered"
   ],
   "id": "5236bcbfc66f514b"
  },
  {
   "metadata": {
    "ExecuteTime": {
     "end_time": "2025-02-11T16:35:28.676244Z",
     "start_time": "2025-02-11T16:35:26.788776Z"
    }
   },
   "cell_type": "code",
   "source": [
    "md_filter = TabzillaFilter(\n",
    "    features_folder=\"formatted\",\n",
    "    metrics_folder=\"formatted\",\n",
    "    funcs_to_exclude=[\n",
    "        \"count\",\n",
    "        \"histogram\",\n",
    "        \"iq_range\",\n",
    "        \"median\",\n",
    "        \"quantiles\",\n",
    "        \"range\",\n",
    "    ],\n",
    "    models_list=[\"XGBoost\", \"RandomForest\", \"LinearModel\",\n",
    "                     \"rtdl_ResNet\", \"rtdl_FTTransformer\", \"rtdl_MLP\"],\n",
    "    test_mode=False,\n",
    "    value_threshold=1e6,\n",
    ")\n",
    "\n",
    "filtered_features = md_filter.handle_features(to_save=True).shape\n",
    "filtered_metrics = md_filter.handle_metrics(to_save=True).shape\n",
    "\n",
    "print(filtered_features)\n",
    "print(filtered_metrics)"
   ],
   "id": "d78ac3880c1bea51",
   "outputs": [
    {
     "name": "stdout",
     "output_type": "stream",
     "text": [
      "(165, 217)\n",
      "(852, 18)\n"
     ]
    }
   ],
   "execution_count": 28
  },
  {
   "metadata": {},
   "cell_type": "markdown",
   "source": [
    "Target builder creates target with specific strategy (rank of absolute or relative performance, difference between best performing models)\n",
    "\n",
    "Targets will be saved here: resources/tabzilla/target"
   ],
   "id": "87e95c082e86378c"
  },
  {
   "metadata": {
    "ExecuteTime": {
     "end_time": "2025-02-11T16:35:28.804244Z",
     "start_time": "2025-02-11T16:35:28.727250Z"
    }
   },
   "cell_type": "code",
   "source": [
    "abs_perf_builder = TargetPerfBuilder(\n",
    "    md_source=md_source,\n",
    "    features_folder=\"filtered\",\n",
    "    metrics_folder=\"filtered\",\n",
    "    metric_name=metric_name,\n",
    "    perf_type=\"abs\",\n",
    "    n_bins=2,\n",
    "    strategy=\"quantile\",\n",
    "    test_mode=False,\n",
    ")\n",
    "\n",
    "rel_perf_builder = TargetPerfBuilder(\n",
    "    md_source=md_source,\n",
    "    features_folder=\"filtered\",\n",
    "    metrics_folder=\"filtered\",\n",
    "    metric_name=metric_name,\n",
    "    perf_type=\"rel\",\n",
    "    n_bins=3,\n",
    "    strategy=\"uniform\",\n",
    "    test_mode=False,\n",
    ")\n",
    "\n",
    "diff_builder = TargetDiffBuilder(\n",
    "    classes=classes_names,\n",
    "    model_classes=model_classes,\n",
    "    md_source=md_source,\n",
    "    features_folder=\"filtered\",\n",
    "    metrics_folder=\"filtered\",\n",
    "    metric_name=metric_name,\n",
    "    n_bins=3,\n",
    "    strategy=\"uniform\",\n",
    "    test_mode=False,\n",
    ")\n",
    "\n",
    "abs_perf = abs_perf_builder.handle_metrics().shape\n",
    "rel_perf = rel_perf_builder.handle_metrics().shape\n",
    "diff = diff_builder.handle_metrics().shape\n",
    "\n",
    "print(abs_perf)\n",
    "print(rel_perf)\n",
    "print(diff)"
   ],
   "id": "e39259eafdfcd4be",
   "outputs": [
    {
     "name": "stdout",
     "output_type": "stream",
     "text": [
      "(142, 6)\n",
      "(142, 6)\n",
      "(142, 1)\n"
     ]
    },
    {
     "name": "stderr",
     "output_type": "stream",
     "text": [
      "D:\\python_projects\\MetaSelect\\ms\\metadataset\\target_builder.py:255: FutureWarning: Setting an item of incompatible dtype is deprecated and will raise in a future error of pandas. Value '[[1.]\n",
      " [1.]\n",
      " [1.]\n",
      " [0.]\n",
      " [2.]\n",
      " [2.]\n",
      " [1.]\n",
      " [2.]\n",
      " [2.]\n",
      " [1.]\n",
      " [1.]\n",
      " [1.]\n",
      " [0.]\n",
      " [0.]\n",
      " [0.]\n",
      " [1.]\n",
      " [2.]\n",
      " [1.]\n",
      " [2.]\n",
      " [0.]\n",
      " [0.]\n",
      " [0.]\n",
      " [0.]\n",
      " [1.]\n",
      " [0.]\n",
      " [2.]\n",
      " [1.]\n",
      " [2.]\n",
      " [2.]\n",
      " [2.]\n",
      " [2.]\n",
      " [2.]\n",
      " [2.]\n",
      " [2.]\n",
      " [2.]\n",
      " [0.]\n",
      " [1.]\n",
      " [0.]\n",
      " [1.]\n",
      " [1.]\n",
      " [1.]\n",
      " [0.]\n",
      " [0.]\n",
      " [0.]\n",
      " [2.]\n",
      " [1.]\n",
      " [0.]\n",
      " [0.]\n",
      " [1.]\n",
      " [2.]\n",
      " [1.]\n",
      " [2.]\n",
      " [2.]\n",
      " [0.]\n",
      " [0.]\n",
      " [0.]\n",
      " [0.]\n",
      " [0.]\n",
      " [0.]\n",
      " [0.]\n",
      " [0.]\n",
      " [2.]\n",
      " [2.]\n",
      " [1.]\n",
      " [1.]\n",
      " [0.]\n",
      " [2.]\n",
      " [1.]\n",
      " [1.]\n",
      " [2.]\n",
      " [2.]\n",
      " [2.]\n",
      " [0.]\n",
      " [2.]\n",
      " [2.]\n",
      " [2.]\n",
      " [2.]\n",
      " [0.]\n",
      " [1.]\n",
      " [1.]\n",
      " [2.]\n",
      " [1.]\n",
      " [1.]\n",
      " [0.]\n",
      " [0.]\n",
      " [2.]\n",
      " [1.]\n",
      " [0.]\n",
      " [2.]\n",
      " [1.]\n",
      " [1.]\n",
      " [2.]\n",
      " [2.]\n",
      " [0.]\n",
      " [2.]\n",
      " [2.]\n",
      " [1.]\n",
      " [1.]\n",
      " [0.]\n",
      " [2.]\n",
      " [2.]\n",
      " [0.]\n",
      " [0.]\n",
      " [1.]\n",
      " [2.]\n",
      " [0.]\n",
      " [2.]\n",
      " [0.]\n",
      " [0.]\n",
      " [0.]\n",
      " [0.]\n",
      " [1.]\n",
      " [1.]\n",
      " [1.]\n",
      " [1.]\n",
      " [1.]\n",
      " [0.]\n",
      " [2.]\n",
      " [1.]\n",
      " [0.]\n",
      " [1.]\n",
      " [1.]\n",
      " [1.]\n",
      " [2.]\n",
      " [1.]\n",
      " [0.]\n",
      " [1.]\n",
      " [0.]\n",
      " [2.]\n",
      " [0.]\n",
      " [2.]\n",
      " [1.]\n",
      " [0.]\n",
      " [1.]\n",
      " [1.]\n",
      " [0.]\n",
      " [2.]\n",
      " [0.]\n",
      " [0.]\n",
      " [1.]\n",
      " [2.]\n",
      " [2.]]' has dtype incompatible with float64, please explicitly cast to a compatible dtype first.\n",
      "  diff_df.iloc[:, 0] = disc.fit_transform(X=diff_df)\n"
     ]
    }
   ],
   "execution_count": 29
  },
  {
   "metadata": {},
   "cell_type": "markdown",
   "source": [
    "Preproccesor performs data scaling with specific target. You can choose target type by passing suffix argument into preprocess method (suffix should correspond to one of the files in target folder)\n",
    "\n",
    "Preprocessed data will be saved here: resources/tabzilla/preprocessed"
   ],
   "id": "6e00b5ff2f42f81"
  },
  {
   "metadata": {
    "ExecuteTime": {
     "end_time": "2025-02-11T16:35:29.340415Z",
     "start_time": "2025-02-11T16:35:28.853245Z"
    }
   },
   "cell_type": "code",
   "source": [
    "scaler = ScalePreprocessor(\n",
    "    md_source=md_source,\n",
    "    features_folder=\"filtered\",\n",
    "    metrics_folder=\"target\",\n",
    "    to_scale=[\"power\"],\n",
    "    perf_type=\"abs\",\n",
    "    remove_outliers=False,\n",
    "    test_mode=False,\n",
    ")\n",
    "scaled_features, scaled_metrics = scaler.preprocess(\n",
    "    feature_suffix=None,\n",
    "    metrics_suffix=\"perf_abs\"\n",
    ")\n",
    "print(scaled_features.shape)\n",
    "print(scaled_metrics.shape)"
   ],
   "id": "8f182427c2bd5fff",
   "outputs": [
    {
     "name": "stdout",
     "output_type": "stream",
     "text": [
      "(134, 217)\n",
      "(134, 6)\n"
     ]
    }
   ],
   "execution_count": 30
  },
  {
   "metadata": {
    "ExecuteTime": {
     "end_time": "2025-02-11T16:35:33.067087Z",
     "start_time": "2025-02-11T16:35:29.374419Z"
    }
   },
   "cell_type": "code",
   "source": [
    "corr_filter = CorrelationPreprocessor(\n",
    "    md_source=md_source,\n",
    "    features_folder=\"preprocessed\",\n",
    "    metrics_folder=\"preprocessed\",\n",
    "    corr_method=\"spearman\",\n",
    "    corr_value_threshold=0.9,\n",
    "    vif_value_threshold=20000,\n",
    "    vif_count_threshold=None,\n",
    "    test_mode=False,\n",
    ")\n",
    "\n",
    "corr_features, corr_metrics = corr_filter.preprocess(\n",
    "    feature_suffix=\"power\",\n",
    "    metrics_suffix=\"perf_abs\"\n",
    ")\n",
    "print(corr_features.shape)\n",
    "print(corr_metrics.shape)"
   ],
   "id": "ca6525094b6c78d7",
   "outputs": [
    {
     "ename": "ValueError",
     "evalue": "The truth value of a Series is ambiguous. Use a.empty, a.bool(), a.item(), a.any() or a.all().",
     "output_type": "error",
     "traceback": [
      "\u001B[1;31m---------------------------------------------------------------------------\u001B[0m",
      "\u001B[1;31mValueError\u001B[0m                                Traceback (most recent call last)",
      "\u001B[1;32m~\\AppData\\Local\\Temp\\ipykernel_11072\\503821470.py\u001B[0m in \u001B[0;36m?\u001B[1;34m()\u001B[0m\n\u001B[0;32m      8\u001B[0m     \u001B[0mvif_count_threshold\u001B[0m\u001B[1;33m=\u001B[0m\u001B[1;32mNone\u001B[0m\u001B[1;33m,\u001B[0m\u001B[1;33m\u001B[0m\u001B[1;33m\u001B[0m\u001B[0m\n\u001B[0;32m      9\u001B[0m     \u001B[0mtest_mode\u001B[0m\u001B[1;33m=\u001B[0m\u001B[1;32mFalse\u001B[0m\u001B[1;33m,\u001B[0m\u001B[1;33m\u001B[0m\u001B[1;33m\u001B[0m\u001B[0m\n\u001B[0;32m     10\u001B[0m )\n\u001B[0;32m     11\u001B[0m \u001B[1;33m\u001B[0m\u001B[0m\n\u001B[1;32m---> 12\u001B[1;33m corr_features, corr_metrics = corr_filter.preprocess(\n\u001B[0m\u001B[0;32m     13\u001B[0m     \u001B[0mfeature_suffix\u001B[0m\u001B[1;33m=\u001B[0m\u001B[1;34m\"power\"\u001B[0m\u001B[1;33m,\u001B[0m\u001B[1;33m\u001B[0m\u001B[1;33m\u001B[0m\u001B[0m\n\u001B[0;32m     14\u001B[0m     \u001B[0mmetrics_suffix\u001B[0m\u001B[1;33m=\u001B[0m\u001B[1;34m\"perf_abs\"\u001B[0m\u001B[1;33m\u001B[0m\u001B[1;33m\u001B[0m\u001B[0m\n\u001B[0;32m     15\u001B[0m )\n",
      "\u001B[1;32mD:\\python_projects\\MetaSelect\\ms\\metadataset\\metadata_preprocessor.py\u001B[0m in \u001B[0;36m?\u001B[1;34m(self, feature_suffix, metrics_suffix)\u001B[0m\n\u001B[0;32m     82\u001B[0m             )\n\u001B[0;32m     83\u001B[0m         \u001B[1;32melse\u001B[0m\u001B[1;33m:\u001B[0m\u001B[1;33m\u001B[0m\u001B[1;33m\u001B[0m\u001B[0m\n\u001B[0;32m     84\u001B[0m             \u001B[0mself\u001B[0m\u001B[1;33m.\u001B[0m\u001B[0mcommon_datasets\u001B[0m \u001B[1;33m=\u001B[0m \u001B[1;32mNone\u001B[0m\u001B[1;33m\u001B[0m\u001B[1;33m\u001B[0m\u001B[0m\n\u001B[0;32m     85\u001B[0m \u001B[1;33m\u001B[0m\u001B[0m\n\u001B[1;32m---> 86\u001B[1;33m         processed_features = self.handle_features(\n\u001B[0m\u001B[0;32m     87\u001B[0m             \u001B[0mload_suffix\u001B[0m\u001B[1;33m=\u001B[0m\u001B[0mfeature_suffix\u001B[0m\u001B[1;33m,\u001B[0m\u001B[1;33m\u001B[0m\u001B[1;33m\u001B[0m\u001B[0m\n\u001B[0;32m     88\u001B[0m             \u001B[0msave_suffix\u001B[0m\u001B[1;33m=\u001B[0m\u001B[1;32mNone\u001B[0m \u001B[1;32mif\u001B[0m \u001B[0mself\u001B[0m\u001B[1;33m.\u001B[0m\u001B[0mhas_suffix\u001B[0m \u001B[1;32melse\u001B[0m \u001B[0mfeature_suffix\u001B[0m\u001B[1;33m,\u001B[0m\u001B[1;33m\u001B[0m\u001B[1;33m\u001B[0m\u001B[0m\n\u001B[0;32m     89\u001B[0m             \u001B[0mto_save\u001B[0m\u001B[1;33m=\u001B[0m\u001B[1;32mTrue\u001B[0m\u001B[1;33m\u001B[0m\u001B[1;33m\u001B[0m\u001B[0m\n",
      "\u001B[1;32mD:\\python_projects\\MetaSelect\\ms\\handler\\metadata_handler.py\u001B[0m in \u001B[0;36m?\u001B[1;34m(self, load_suffix, save_suffix, to_save)\u001B[0m\n\u001B[0;32m    118\u001B[0m             \u001B[0msave_suffix\u001B[0m\u001B[1;33m:\u001B[0m \u001B[0mstr\u001B[0m \u001B[1;33m|\u001B[0m \u001B[1;32mNone\u001B[0m \u001B[1;33m=\u001B[0m \u001B[1;32mNone\u001B[0m\u001B[1;33m,\u001B[0m\u001B[1;33m\u001B[0m\u001B[1;33m\u001B[0m\u001B[0m\n\u001B[0;32m    119\u001B[0m             \u001B[0mto_save\u001B[0m\u001B[1;33m:\u001B[0m \u001B[0mbool\u001B[0m \u001B[1;33m=\u001B[0m \u001B[1;32mTrue\u001B[0m\u001B[1;33m\u001B[0m\u001B[1;33m\u001B[0m\u001B[0m\n\u001B[0;32m    120\u001B[0m     ) -> pd.DataFrame:\n\u001B[0;32m    121\u001B[0m         \u001B[0mfeatures_dataset\u001B[0m \u001B[1;33m=\u001B[0m \u001B[0mself\u001B[0m\u001B[1;33m.\u001B[0m\u001B[0mload_features\u001B[0m\u001B[1;33m(\u001B[0m\u001B[0msuffix\u001B[0m\u001B[1;33m=\u001B[0m\u001B[0mload_suffix\u001B[0m\u001B[1;33m)\u001B[0m\u001B[1;33m\u001B[0m\u001B[1;33m\u001B[0m\u001B[0m\n\u001B[1;32m--> 122\u001B[1;33m         features_handled, handler_info = self.__handle_features__(\n\u001B[0m\u001B[0;32m    123\u001B[0m             \u001B[0mfeatures_dataset\u001B[0m\u001B[1;33m=\u001B[0m\u001B[0mfeatures_dataset\u001B[0m\u001B[1;33m\u001B[0m\u001B[1;33m\u001B[0m\u001B[0m\n\u001B[0;32m    124\u001B[0m         )\n\u001B[0;32m    125\u001B[0m         \u001B[1;32mif\u001B[0m \u001B[0mto_save\u001B[0m\u001B[1;33m:\u001B[0m\u001B[1;33m\u001B[0m\u001B[1;33m\u001B[0m\u001B[0m\n",
      "\u001B[1;32mD:\\python_projects\\MetaSelect\\ms\\metadataset\\metadata_preprocessor.py\u001B[0m in \u001B[0;36m?\u001B[1;34m(self, features_dataset)\u001B[0m\n\u001B[0;32m    100\u001B[0m         \u001B[1;32mif\u001B[0m \u001B[0mself\u001B[0m\u001B[1;33m.\u001B[0m\u001B[0mcommon_datasets\u001B[0m \u001B[1;32mis\u001B[0m \u001B[1;32mnot\u001B[0m \u001B[1;32mNone\u001B[0m\u001B[1;33m:\u001B[0m\u001B[1;33m\u001B[0m\u001B[1;33m\u001B[0m\u001B[0m\n\u001B[0;32m    101\u001B[0m             \u001B[0mprocessed_dataset\u001B[0m \u001B[1;33m=\u001B[0m \u001B[0mfeatures_dataset\u001B[0m\u001B[1;33m.\u001B[0m\u001B[0mcopy\u001B[0m\u001B[1;33m(\u001B[0m\u001B[1;33m)\u001B[0m\u001B[1;33m.\u001B[0m\u001B[0mloc\u001B[0m\u001B[1;33m[\u001B[0m\u001B[0mself\u001B[0m\u001B[1;33m.\u001B[0m\u001B[0mcommon_datasets\u001B[0m\u001B[1;33m]\u001B[0m\u001B[1;33m.\u001B[0m\u001B[0msort_index\u001B[0m\u001B[1;33m(\u001B[0m\u001B[1;33m)\u001B[0m\u001B[1;33m\u001B[0m\u001B[1;33m\u001B[0m\u001B[0m\n\u001B[0;32m    102\u001B[0m         \u001B[1;32melse\u001B[0m\u001B[1;33m:\u001B[0m\u001B[1;33m\u001B[0m\u001B[1;33m\u001B[0m\u001B[0m\n\u001B[0;32m    103\u001B[0m             \u001B[0mprocessed_dataset\u001B[0m \u001B[1;33m=\u001B[0m \u001B[0mfeatures_dataset\u001B[0m\u001B[1;33m.\u001B[0m\u001B[0mcopy\u001B[0m\u001B[1;33m(\u001B[0m\u001B[1;33m)\u001B[0m\u001B[1;33m\u001B[0m\u001B[1;33m\u001B[0m\u001B[0m\n\u001B[1;32m--> 104\u001B[1;33m         \u001B[1;32mreturn\u001B[0m \u001B[0mself\u001B[0m\u001B[1;33m.\u001B[0m\u001B[0m__process_features__\u001B[0m\u001B[1;33m(\u001B[0m\u001B[0mprocessed_dataset\u001B[0m\u001B[1;33m=\u001B[0m\u001B[0mprocessed_dataset\u001B[0m\u001B[1;33m)\u001B[0m\u001B[1;33m\u001B[0m\u001B[1;33m\u001B[0m\u001B[0m\n\u001B[0m",
      "\u001B[1;32mD:\\python_projects\\MetaSelect\\ms\\metadataset\\metadata_preprocessor.py\u001B[0m in \u001B[0;36m?\u001B[1;34m(self, processed_dataset)\u001B[0m\n\u001B[0;32m    233\u001B[0m             \u001B[1;32melse\u001B[0m \u001B[0mlen\u001B[0m\u001B[1;33m(\u001B[0m\u001B[0msorted_vif\u001B[0m\u001B[1;33m.\u001B[0m\u001B[0mindex\u001B[0m\u001B[1;33m)\u001B[0m\u001B[1;33m\u001B[0m\u001B[1;33m\u001B[0m\u001B[0m\n\u001B[0;32m    234\u001B[0m \u001B[1;33m\u001B[0m\u001B[0m\n\u001B[0;32m    235\u001B[0m         \u001B[1;32mfor\u001B[0m \u001B[0mi\u001B[0m \u001B[1;32min\u001B[0m \u001B[0mrange\u001B[0m\u001B[1;33m(\u001B[0m\u001B[0mmax_iter\u001B[0m\u001B[1;33m)\u001B[0m\u001B[1;33m:\u001B[0m\u001B[1;33m\u001B[0m\u001B[1;33m\u001B[0m\u001B[0m\n\u001B[0;32m    236\u001B[0m             \u001B[0mvif_max\u001B[0m \u001B[1;33m=\u001B[0m \u001B[0msorted_vif\u001B[0m\u001B[1;33m.\u001B[0m\u001B[0mmax\u001B[0m\u001B[1;33m(\u001B[0m\u001B[1;33m)\u001B[0m\u001B[1;33m\u001B[0m\u001B[1;33m\u001B[0m\u001B[0m\n\u001B[1;32m--> 237\u001B[1;33m             \u001B[1;32mif\u001B[0m \u001B[0mself\u001B[0m\u001B[1;33m.\u001B[0m\u001B[0mvif_value_threshold\u001B[0m \u001B[1;32mis\u001B[0m \u001B[1;32mnot\u001B[0m \u001B[1;32mNone\u001B[0m \u001B[1;32mand\u001B[0m \u001B[0mvif_max\u001B[0m \u001B[1;33m<\u001B[0m \u001B[0mself\u001B[0m\u001B[1;33m.\u001B[0m\u001B[0mvif_value_threshold\u001B[0m\u001B[1;33m:\u001B[0m\u001B[1;33m\u001B[0m\u001B[1;33m\u001B[0m\u001B[0m\n\u001B[0m\u001B[0;32m    238\u001B[0m                 \u001B[1;32mbreak\u001B[0m\u001B[1;33m\u001B[0m\u001B[1;33m\u001B[0m\u001B[0m\n\u001B[0;32m    239\u001B[0m             \u001B[0msorted_vif\u001B[0m \u001B[1;33m=\u001B[0m \u001B[0mself\u001B[0m\u001B[1;33m.\u001B[0m\u001B[0mcompute_vif\u001B[0m\u001B[1;33m(\u001B[0m\u001B[0mprocessed_dataset\u001B[0m\u001B[1;33m.\u001B[0m\u001B[0mloc\u001B[0m\u001B[1;33m[\u001B[0m\u001B[1;33m:\u001B[0m\u001B[1;33m,\u001B[0m \u001B[0msorted_vif\u001B[0m\u001B[1;33m.\u001B[0m\u001B[0mindex\u001B[0m\u001B[1;33m[\u001B[0m\u001B[1;36m1\u001B[0m\u001B[1;33m:\u001B[0m\u001B[1;33m]\u001B[0m\u001B[1;33m]\u001B[0m\u001B[1;33m)\u001B[0m\u001B[1;33m\u001B[0m\u001B[1;33m\u001B[0m\u001B[0m\n\u001B[0;32m    240\u001B[0m \u001B[1;33m\u001B[0m\u001B[0m\n",
      "\u001B[1;32mD:\\python_projects\\MetaSelect\\venv\\lib\\site-packages\\pandas\\core\\generic.py\u001B[0m in \u001B[0;36m?\u001B[1;34m(self)\u001B[0m\n\u001B[0;32m   1575\u001B[0m     \u001B[1;33m@\u001B[0m\u001B[0mfinal\u001B[0m\u001B[1;33m\u001B[0m\u001B[1;33m\u001B[0m\u001B[0m\n\u001B[0;32m   1576\u001B[0m     \u001B[1;32mdef\u001B[0m \u001B[0m__nonzero__\u001B[0m\u001B[1;33m(\u001B[0m\u001B[0mself\u001B[0m\u001B[1;33m)\u001B[0m \u001B[1;33m->\u001B[0m \u001B[0mNoReturn\u001B[0m\u001B[1;33m:\u001B[0m\u001B[1;33m\u001B[0m\u001B[1;33m\u001B[0m\u001B[0m\n\u001B[1;32m-> 1577\u001B[1;33m         raise ValueError(\n\u001B[0m\u001B[0;32m   1578\u001B[0m             \u001B[1;34mf\"The truth value of a {type(self).__name__} is ambiguous. \"\u001B[0m\u001B[1;33m\u001B[0m\u001B[1;33m\u001B[0m\u001B[0m\n\u001B[0;32m   1579\u001B[0m             \u001B[1;34m\"Use a.empty, a.bool(), a.item(), a.any() or a.all().\"\u001B[0m\u001B[1;33m\u001B[0m\u001B[1;33m\u001B[0m\u001B[0m\n\u001B[0;32m   1580\u001B[0m         )\n",
      "\u001B[1;31mValueError\u001B[0m: The truth value of a Series is ambiguous. Use a.empty, a.bool(), a.item(), a.any() or a.all()."
     ]
    }
   ],
   "execution_count": 31
  },
  {
   "metadata": {
    "ExecuteTime": {
     "end_time": "2025-02-11T16:35:33.069091Z",
     "start_time": "2025-02-11T16:34:51.729218Z"
    }
   },
   "cell_type": "code",
   "source": "",
   "id": "f46a3363fedb8100",
   "outputs": [
    {
     "data": {
      "text/plain": [
       "(134, 6)"
      ]
     },
     "execution_count": 24,
     "metadata": {},
     "output_type": "execute_result"
    }
   ],
   "execution_count": 24
  },
  {
   "metadata": {
    "ExecuteTime": {
     "end_time": "2025-02-11T16:35:33.070089500Z",
     "start_time": "2025-02-11T16:34:51.792232Z"
    }
   },
   "cell_type": "code",
   "source": "",
   "id": "8d7653db9ad7e0d9",
   "outputs": [],
   "execution_count": null
  }
 ],
 "metadata": {
  "kernelspec": {
   "display_name": "Python 3",
   "language": "python",
   "name": "python3"
  },
  "language_info": {
   "codemirror_mode": {
    "name": "ipython",
    "version": 2
   },
   "file_extension": ".py",
   "mimetype": "text/x-python",
   "name": "python",
   "nbconvert_exporter": "python",
   "pygments_lexer": "ipython2",
   "version": "2.7.6"
  }
 },
 "nbformat": 4,
 "nbformat_minor": 5
}
