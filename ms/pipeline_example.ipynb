{
 "cells": [
  {
   "metadata": {},
   "cell_type": "markdown",
   "source": "This is simple example of module pipeline. It uses preprocessed metadata stored in resources/tabzilla/preprocessed_simple",
   "id": "f89041f34dc9f15f"
  },
  {
   "cell_type": "code",
   "id": "initial_id",
   "metadata": {
    "collapsed": true
   },
   "source": [
    "import random\n",
    "\n",
    "from ms.metadataset.metadata_sampler import MetadataSampler\n",
    "from ms.metaresearch.meta_learning import MetaLearner\n",
    "from ms.pipeline_constants import *\n",
    "import numpy as np\n",
    "from ms.metaresearch.plotting import Plotter"
   ],
   "outputs": [],
   "execution_count": null
  },
  {
   "metadata": {},
   "cell_type": "code",
   "source": [
    "np.random.seed(seed)\n",
    "random.seed(seed)"
   ],
   "id": "19ef5fd7ba3070ee",
   "outputs": [],
   "execution_count": null
  },
  {
   "metadata": {},
   "cell_type": "code",
   "source": "data_folder = \"preprocessed_example\"",
   "id": "100655c7b2093741",
   "outputs": [],
   "execution_count": null
  },
  {
   "metadata": {},
   "cell_type": "code",
   "source": [
    "selectors_to_use = [\"corr\"]\n",
    "selectors = [all_handlers[selector][1] for selector in selectors_to_use if selector != \"rfe\"]\n",
    "metrics_suffixes = [\"perf_abs\"]"
   ],
   "id": "1b1d4d5f90770825",
   "outputs": [],
   "execution_count": null
  },
  {
   "metadata": {},
   "cell_type": "code",
   "source": [
    "f_sampler = MetadataSampler(\n",
    "        md_source=md_source,\n",
    "        splitter=train_test_slitter, # or k_fold_splitter for CV\n",
    "        features_folder=data_folder,\n",
    "        metrics_folder=data_folder,\n",
    "        test_mode=False\n",
    ")"
   ],
   "id": "4fc3fa8c472bd259",
   "outputs": [],
   "execution_count": null
  },
  {
   "metadata": {},
   "cell_type": "code",
   "source": [
    "f_sampler.sample_data(\n",
    "        feature_suffixes=[\"power\"],\n",
    "        target_suffix=\"perf_abs\", # single sampling data is used for every target despite suffix\n",
    "        rewrite=False\n",
    ")"
   ],
   "id": "33bbf3d0d149bbd4",
   "outputs": [],
   "execution_count": null
  },
  {
   "metadata": {},
   "cell_type": "code",
   "source": [
    "for features_suffix in features_suffixes:\n",
    "    print(features_suffix)\n",
    "    for metrics_suffix in metrics_suffixes:\n",
    "        print(metrics_suffix)\n",
    "        for selector in selectors:\n",
    "            print(selector.name)\n",
    "            selector.perform(\n",
    "                features_suffix=features_suffix,\n",
    "                metrics_suffix=metrics_suffix,\n",
    "                rewrite=False,\n",
    "            )"
   ],
   "id": "acaf7b6b247dadf6",
   "outputs": [],
   "execution_count": null
  },
  {
   "metadata": {},
   "cell_type": "code",
   "source": [
    "meta_learner = MetaLearner(\n",
    "        md_source=md_source,\n",
    "        opt_scoring=grid_scoring,\n",
    "        model_scoring=model_scoring,\n",
    "        features_folder=data_folder,\n",
    "        metrics_folder=data_folder,\n",
    "        opt_method=None,\n",
    "        test_mode=False,\n",
    ")"
   ],
   "id": "b8c529ba01fdbd15",
   "outputs": [],
   "execution_count": null
  },
  {
   "metadata": {},
   "cell_type": "code",
   "source": [
    "meta_learner.run_models(\n",
    "        models=[knn_mm], # metamodels\n",
    "        feature_suffixes=features_suffixes,\n",
    "        target_suffixes=metrics_suffixes,\n",
    "        selector_names=selectors_to_use, # feature selection methods\n",
    "        rewrite=False,\n",
    "        to_save=True,\n",
    ")"
   ],
   "id": "35d0b38afc4a4fd4",
   "outputs": [],
   "execution_count": null
  },
  {
   "metadata": {
    "ExecuteTime": {
     "end_time": "2025-02-20T14:10:57.405817Z",
     "start_time": "2025-02-20T14:10:57.388809Z"
    }
   },
   "cell_type": "code",
   "source": [
    "plotter = Plotter(\n",
    "        md_source=md_source,\n",
    "        mean_cols=mean_cols,\n",
    "        std_cols=std_cols,\n",
    "        rewrite=False\n",
    ")"
   ],
   "id": "d9131a35bb25733f",
   "outputs": [],
   "execution_count": 22
  },
  {
   "metadata": {
    "ExecuteTime": {
     "end_time": "2025-02-20T14:10:57.956533Z",
     "start_time": "2025-02-20T14:10:57.934659Z"
    }
   },
   "cell_type": "code",
   "source": [
    "# selectors should be loaded again for plotting because they can be generated during learning\n",
    "selectors_loaded = meta_learner.load_selectors(\n",
    "        features_suffixes=features_suffixes,\n",
    "        metrics_suffixes=metrics_suffixes,\n",
    "        selector_names=selectors_to_use,\n",
    "        all_data=True\n",
    ")"
   ],
   "id": "60933ad69511500a",
   "outputs": [],
   "execution_count": 23
  },
  {
   "metadata": {
    "ExecuteTime": {
     "end_time": "2025-02-20T14:11:25.239707Z",
     "start_time": "2025-02-20T14:11:19.701124Z"
    }
   },
   "cell_type": "code",
   "source": [
    "plotter.plot(\n",
    "    models=[knn_mm],\n",
    "    feature_suffixes=features_suffixes,\n",
    "    target_suffixes=[\"perf_abs\"],\n",
    "    selectors=selectors_loaded,\n",
    "    target_models=target_models,\n",
    ")"
   ],
   "id": "9be1d2c20a53cb17",
   "outputs": [
    {
     "name": "stdout",
     "output_type": "stream",
     "text": [
      "Plotting corr\n",
      "Plotting selectors comparison for knn\n"
     ]
    },
    {
     "name": "stderr",
     "output_type": "stream",
     "text": [
      "\n",
      "A value is trying to be set on a copy of a slice from a DataFrame.\n",
      "Try using .loc[row_indexer,col_indexer] = value instead\n",
      "\n",
      "See the caveats in the documentation: https://pandas.pydata.org/pandas-docs/stable/user_guide/indexing.html#returning-a-view-versus-a-copy\n",
      "\n",
      "A value is trying to be set on a copy of a slice from a DataFrame.\n",
      "Try using .loc[row_indexer,col_indexer] = value instead\n",
      "\n",
      "See the caveats in the documentation: https://pandas.pydata.org/pandas-docs/stable/user_guide/indexing.html#returning-a-view-versus-a-copy\n",
      "\n",
      "A value is trying to be set on a copy of a slice from a DataFrame.\n",
      "Try using .loc[row_indexer,col_indexer] = value instead\n",
      "\n",
      "See the caveats in the documentation: https://pandas.pydata.org/pandas-docs/stable/user_guide/indexing.html#returning-a-view-versus-a-copy\n",
      "\n",
      "A value is trying to be set on a copy of a slice from a DataFrame.\n",
      "Try using .loc[row_indexer,col_indexer] = value instead\n",
      "\n",
      "See the caveats in the documentation: https://pandas.pydata.org/pandas-docs/stable/user_guide/indexing.html#returning-a-view-versus-a-copy\n",
      "\n",
      "A value is trying to be set on a copy of a slice from a DataFrame.\n",
      "Try using .loc[row_indexer,col_indexer] = value instead\n",
      "\n",
      "See the caveats in the documentation: https://pandas.pydata.org/pandas-docs/stable/user_guide/indexing.html#returning-a-view-versus-a-copy\n",
      "\n",
      "A value is trying to be set on a copy of a slice from a DataFrame.\n",
      "Try using .loc[row_indexer,col_indexer] = value instead\n",
      "\n",
      "See the caveats in the documentation: https://pandas.pydata.org/pandas-docs/stable/user_guide/indexing.html#returning-a-view-versus-a-copy\n"
     ]
    }
   ],
   "execution_count": 25
  },
  {
   "metadata": {},
   "cell_type": "code",
   "outputs": [],
   "execution_count": null,
   "source": "",
   "id": "89a2eff1333300e0"
  }
 ],
 "metadata": {
  "kernelspec": {
   "display_name": "Python 3",
   "language": "python",
   "name": "python3"
  },
  "language_info": {
   "codemirror_mode": {
    "name": "ipython",
    "version": 2
   },
   "file_extension": ".py",
   "mimetype": "text/x-python",
   "name": "python",
   "nbconvert_exporter": "python",
   "pygments_lexer": "ipython2",
   "version": "2.7.6"
  }
 },
 "nbformat": 4,
 "nbformat_minor": 5
}
