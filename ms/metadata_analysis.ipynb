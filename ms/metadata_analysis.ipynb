{
 "cells": [
  {
   "cell_type": "code",
   "id": "initial_id",
   "metadata": {
    "collapsed": true,
    "ExecuteTime": {
     "end_time": "2025-02-13T18:28:49.820560Z",
     "start_time": "2025-02-13T18:28:48.272894Z"
    }
   },
   "source": [
    "from sklearn.neighbors import KNeighborsClassifier\n",
    "from sklearn.neural_network import MLPClassifier\n",
    "from xgboost import XGBClassifier\n",
    "\n",
    "from ms.handler.metadata_source import TabzillaSource\n",
    "from ms.metaresearch.meta_learner import MetaLearner\n",
    "from ms.metaresearch.meta_model import MetaModel\n",
    "from ms.metaresearch.selector_data import SelectorData\n",
    "from sklearn.linear_model import LogisticRegression"
   ],
   "outputs": [
    {
     "name": "stderr",
     "output_type": "stream",
     "text": [
      "D:\\python_projects\\MetaSelect\\venv\\lib\\site-packages\\tqdm\\auto.py:21: TqdmWarning: IProgress not found. Please update jupyter and ipywidgets. See https://ipywidgets.readthedocs.io/en/stable/user_install.html\n",
      "  from .autonotebook import tqdm as notebook_tqdm\n"
     ]
    }
   ],
   "execution_count": 1
  },
  {
   "metadata": {
    "ExecuteTime": {
     "end_time": "2025-02-13T18:28:49.852572Z",
     "start_time": "2025-02-13T18:28:49.840564Z"
    }
   },
   "cell_type": "code",
   "source": [
    "from sklearn.metrics import make_scorer, balanced_accuracy_score, f1_score, roc_auc_score\n",
    "\n",
    "md_source = TabzillaSource()\n",
    "grid_scoring = \"b_acc\"\n",
    "model_scoring = {\n",
    "    'b_acc': make_scorer(balanced_accuracy_score),\n",
    "    'f1': make_scorer(f1_score, average='weighted'),\n",
    "    'roc': make_scorer(\n",
    "        roc_auc_score, \n",
    "        average='weighted',\n",
    "        max_fpr=None,\n",
    "        multi_class=\"ovo\",\n",
    "        response_method=\"predict_proba\"\n",
    "    ),\n",
    "}"
   ],
   "id": "2b67382db7892db2",
   "outputs": [],
   "execution_count": 2
  },
  {
   "metadata": {
    "ExecuteTime": {
     "end_time": "2025-02-13T18:28:50.108125Z",
     "start_time": "2025-02-13T18:28:50.094121Z"
    }
   },
   "cell_type": "code",
   "source": [
    "meta_learner = MetaLearner(\n",
    "    md_source=md_source,\n",
    "    opt_scoring=grid_scoring,\n",
    "    model_scoring=model_scoring,\n",
    "    features_folder=\"preprocessed\",\n",
    "    metrics_folder=\"preprocessed\",\n",
    "    use_optuna=True,\n",
    "    opt_cv=5,\n",
    "    model_cv=10,\n",
    "    n_trials=50,\n",
    "    test_mode=False,\n",
    ")"
   ],
   "id": "c2e2e40edd70d48e",
   "outputs": [],
   "execution_count": 3
  },
  {
   "metadata": {
    "ExecuteTime": {
     "end_time": "2025-02-13T18:28:50.139571Z",
     "start_time": "2025-02-13T18:28:50.126147Z"
    }
   },
   "cell_type": "code",
   "source": [
    "lr = MetaModel(\n",
    "    name=\"logreg\",\n",
    "    display_name=\"Logistic Regression\",\n",
    "    model=LogisticRegression(),\n",
    "    params={\n",
    "        \"penalty\": [\"l2\"],\n",
    "        \"C\": [0.01, 0.1, 1, 10],\n",
    "        \"solver\": [\"newton-cholesky\", \"lbfgs\", \"sag\", \"saga\"],\n",
    "    }\n",
    ")\n",
    "\n",
    "mlp = MetaModel(\n",
    "    name=\"mlp\",\n",
    "    display_name=\"MLP\",\n",
    "    model=MLPClassifier(),\n",
    "    params={\n",
    "        \"hidden_layer_sizes\": [(10,), (25,), (50,)],\n",
    "        \"activation\": [\"logistic\", \"relu\", \"tanh\"],\n",
    "        \"solver\": [\"lbfgs\", \"sgd\", \"adam\"],\n",
    "        \"alpha\": [0.001, 0.01, 0.1],\n",
    "        \"batch_size\": [\"auto\", 10, 25, 50],\n",
    "        \"learning_rate\": [\"adaptive\"],\n",
    "        \"learning_rate_init\": [0.001, 0.01, 0.1],\n",
    "        \"max_iter\": [25, 50, 100, 200],\n",
    "    },\n",
    ")\n",
    "\n",
    "xgb = MetaModel(\n",
    "    name=\"xgb\",\n",
    "    display_name=\"XGBoost\",\n",
    "    model=XGBClassifier(),\n",
    "    params={ \n",
    "        'max_depth': [3, 5, 7, 9],\n",
    "        'learning_rate': [0.01, 0.1, 0.3],\n",
    "        'n_estimators': [5, 10, 50, 100],\n",
    "        \"eval_metric\" : [\"merror\", \"mlogloss\"], \n",
    "    },\n",
    ")\n",
    "\n",
    "knn = MetaModel(\n",
    "    name=\"knn\",\n",
    "    display_name=\"KNN\",\n",
    "    model=KNeighborsClassifier(),\n",
    "    params={\n",
    "        \"n_neighbors\": [3, 5, 7],\n",
    "        \"weights\": [\"uniform\", \"distance\"],\n",
    "        \"leaf_size\": [10, 20, 30, 50],\n",
    "        \"algorithm\": [\"auto\"],\n",
    "        \"p\": [1, 2],\n",
    "    }\n",
    ")"
   ],
   "id": "c1a0ff1acf0c37a6",
   "outputs": [],
   "execution_count": 4
  },
  {
   "metadata": {
    "ExecuteTime": {
     "end_time": "2025-02-13T18:28:50.170945Z",
     "start_time": "2025-02-13T18:28:50.156944Z"
    }
   },
   "cell_type": "code",
   "source": "base_selector = SelectorData(\"no_selector\")",
   "id": "b3e66b24b5ccb336",
   "outputs": [],
   "execution_count": 5
  },
  {
   "metadata": {
    "ExecuteTime": {
     "end_time": "2025-02-13T18:28:50.218948Z",
     "start_time": "2025-02-13T18:28:50.189950Z"
    }
   },
   "cell_type": "code",
   "source": [
    "meta_learner.run_models(\n",
    "    models=[lr, knn, xgb, mlp],\n",
    "    feature_suffix=\"power\",\n",
    "    target_suffixes=[\"perf_abs\", \"perf_rel\", \"diff\"],\n",
    "    selectors=[base_selector],\n",
    "    rewrite=False\n",
    ")"
   ],
   "id": "195d7daedfc3effe",
   "outputs": [
    {
     "name": "stdout",
     "output_type": "stream",
     "text": [
      "Selector: no_selector\n",
      "Target file: metrics__perf_abs.csv\n",
      "Metamodel: logreg\n",
      "Metamodel: knn\n",
      "Metamodel: xgb\n",
      "Metamodel: mlp\n",
      "Target file: metrics__perf_rel.csv\n",
      "Metamodel: logreg\n",
      "Metamodel: knn\n",
      "Metamodel: xgb\n",
      "Metamodel: mlp\n",
      "Target file: metrics__diff.csv\n",
      "Metamodel: logreg\n",
      "Metamodel: knn\n",
      "Metamodel: xgb\n",
      "Metamodel: mlp\n"
     ]
    }
   ],
   "execution_count": 6
  },
  {
   "metadata": {
    "ExecuteTime": {
     "end_time": "2025-02-13T18:28:50.250950Z",
     "start_time": "2025-02-13T18:28:50.236951Z"
    }
   },
   "cell_type": "code",
   "source": [
    "mean_cols = [\"test_b_acc_mean\", \"test_f1_mean\", \"test_roc_mean\", \"fit_score_time_mean\"]\n",
    "names = [\"b_acc\", \"f1\", \"roc\", \"fit+score time, s\"]\n",
    "std_cols = [\"test_b_acc_std\", \"test_f1_std\", \"test_roc_std\", \"fit_score_time_std\"]\n",
    "target_models = [\n",
    "    \"LR\",\n",
    "    \"RF\",\n",
    "    \"XGB\",\n",
    "    \"FTT\",\n",
    "    \"MLP\",\n",
    "    \"RN\"\n",
    "]"
   ],
   "id": "dbb161ceba557d40",
   "outputs": [],
   "execution_count": 7
  },
  {
   "metadata": {
    "ExecuteTime": {
     "end_time": "2025-02-13T18:28:50.836847Z",
     "start_time": "2025-02-13T18:28:50.268502Z"
    }
   },
   "cell_type": "code",
   "source": [
    "from ms.metaresearch.plotting import Plotter\n",
    "\n",
    "plotter = Plotter(\n",
    "    md_source=md_source,\n",
    "    mean_cols=mean_cols,\n",
    "    std_cols=std_cols,\n",
    "    names=names,\n",
    "    rewrite=False,\n",
    ")"
   ],
   "id": "6abcc67583f3953d",
   "outputs": [],
   "execution_count": 8
  },
  {
   "metadata": {
    "ExecuteTime": {
     "end_time": "2025-02-13T18:28:50.884443Z",
     "start_time": "2025-02-13T18:28:50.854856Z"
    }
   },
   "cell_type": "code",
   "source": [
    "plotter.plot(\n",
    "    models=[lr, knn, xgb, mlp],\n",
    "    target_suffixes=[\"perf_abs\", \"perf_rel\"],\n",
    "    selectors=[base_selector],\n",
    "    target_models=target_models,\n",
    ")"
   ],
   "id": "406c0547bc93ccd5",
   "outputs": [],
   "execution_count": 9
  },
  {
   "metadata": {
    "ExecuteTime": {
     "end_time": "2025-02-13T18:28:51.851925Z",
     "start_time": "2025-02-13T18:28:50.903451Z"
    }
   },
   "cell_type": "code",
   "source": [
    "plotter.plot(\n",
    "    models=[lr, knn, xgb, mlp],\n",
    "    target_suffixes=[\"diff\"],\n",
    "    selectors=[base_selector],\n",
    "    target_models=[\"RN_XGB\"],\n",
    ")"
   ],
   "id": "de895fa029b0354a",
   "outputs": [
    {
     "data": {
      "text/plain": [
       "<Figure size 900x700 with 4 Axes>"
      ],
      "image/png": "[encoded data removed]"
     },
     "metadata": {},
     "output_type": "display_data"
    }
   ],
   "execution_count": 10
  },
  {
   "metadata": {
    "ExecuteTime": {
     "end_time": "2025-02-13T18:28:51.882925Z",
     "start_time": "2025-02-13T18:28:51.869926Z"
    }
   },
   "cell_type": "code",
   "source": "",
   "id": "859dcf23603fe176",
   "outputs": [],
   "execution_count": null
  }
 ],
 "metadata": {
  "kernelspec": {
   "display_name": "Python 3",
   "language": "python",
   "name": "python3"
  },
  "language_info": {
   "codemirror_mode": {
    "name": "ipython",
    "version": 2
   },
   "file_extension": ".py",
   "mimetype": "text/x-python",
   "name": "python",
   "nbconvert_exporter": "python",
   "pygments_lexer": "ipython2",
   "version": "2.7.6"
  }
 },
 "nbformat": 4,
 "nbformat_minor": 5
}
