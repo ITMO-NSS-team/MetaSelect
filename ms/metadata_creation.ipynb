{
 "cells": [
  {
   "metadata": {},
   "cell_type": "markdown",
   "source": [
    "1. Download files from here: https://drive.google.com/drive/folders/1LR-ftaIeV6_KJvVz8q-xbodA-oXtJuvV?usp=sharing\n",
    "2. Place features.csv and metrics.csv to the following path from project root: resources/tabzilla/raw\n",
    "3. Run this notebook"
   ],
   "id": "a3f2312e5cbd23ca"
  },
  {
   "metadata": {
    "ExecuteTime": {
     "end_time": "2025-02-15T13:00:57.069327Z",
     "start_time": "2025-02-15T13:00:55.761482Z"
    }
   },
   "cell_type": "code",
   "source": [
    "from ms.handler.metadata_source import TabzillaSource\n",
    "from ms.metadataset.metadata_formatter import TabzillaFormatter\n",
    "from ms.metadataset.metadata_filter import TabzillaFilter\n",
    "from ms.metadataset.target_builder import TargetPerfBuilder, TargetDiffBuilder\n",
    "from ms.metadataset.metadata_preprocessor import ScalePreprocessor, CorrelationPreprocessor"
   ],
   "id": "ecab06b0d19517a0",
   "outputs": [],
   "execution_count": 1
  },
  {
   "metadata": {
    "ExecuteTime": {
     "end_time": "2025-02-12T13:57:45.759150Z",
     "start_time": "2025-02-12T13:57:45.736151Z"
    }
   },
   "cell_type": "code",
   "source": [
    "md_source = TabzillaSource()\n",
    "metric_name = \"F1__test\"\n",
    "\n",
    "model_classes = {\n",
    "    \"rtdl_FTTransformer\": \"nn\",\n",
    "    \"rtdl_MLP\": \"nn\",\n",
    "    \"rtdl_ResNet\": \"nn\",\n",
    "    \"LinearModel\": \"classic\",\n",
    "    \"RandomForest\": \"classic\",\n",
    "    \"XGBoost\": \"classic\"\n",
    "}\n",
    "\n",
    "classes_names = [\"nn\", \"classic\"]"
   ],
   "id": "d8f0331f7eedede4",
   "outputs": [],
   "execution_count": 16
  },
  {
   "metadata": {},
   "cell_type": "markdown",
   "source": [
    "Formatter handles raw TabZilla files performing fold values aggregation and metrics formatting.\n",
    "\n",
    "Formatted files will be saved here: resources/tabzilla/formatted"
   ],
   "id": "58d73a5c24b5a7b2"
  },
  {
   "metadata": {
    "ExecuteTime": {
     "end_time": "2025-02-12T13:57:50.902123Z",
     "start_time": "2025-02-12T13:57:45.857165Z"
    }
   },
   "cell_type": "code",
   "source": [
    "formatter = TabzillaFormatter(\n",
    "        features_folder=\"raw\",\n",
    "        metrics_folder=\"raw\",\n",
    "        test_mode=False,\n",
    "    )\n",
    "formatted_features = formatter.handle_features(to_save=True).shape\n",
    "formatted_metrics = formatter.handle_metrics(to_save=True).shape\n",
    "\n",
    "print(formatted_features)\n",
    "print(formatted_metrics)"
   ],
   "id": "ec231db2ec5e88ca",
   "outputs": [
    {
     "name": "stdout",
     "output_type": "stream",
     "text": [
      "(176, 1604)\n",
      "(3246, 16)\n"
     ]
    }
   ],
   "execution_count": 17
  },
  {
   "metadata": {},
   "cell_type": "markdown",
   "source": [
    "Filter performs removal of unsuitable features\n",
    "\n",
    "Filtered files will be saved here: resources/tabzilla/filtered"
   ],
   "id": "5236bcbfc66f514b"
  },
  {
   "metadata": {
    "ExecuteTime": {
     "end_time": "2025-02-12T13:57:52.898548Z",
     "start_time": "2025-02-12T13:57:50.968139Z"
    }
   },
   "cell_type": "code",
   "source": [
    "md_filter = TabzillaFilter(\n",
    "    features_folder=\"formatted\",\n",
    "    metrics_folder=\"formatted\",\n",
    "    funcs_to_exclude=[\n",
    "        \"count\",\n",
    "        \"histogram\",\n",
    "        \"iq_range\",\n",
    "        \"median\",\n",
    "        \"quantiles\",\n",
    "        \"range\",\n",
    "    ],\n",
    "    models_list=[\"XGBoost\", \"RandomForest\", \"LinearModel\",\n",
    "                     \"rtdl_ResNet\", \"rtdl_FTTransformer\", \"rtdl_MLP\"],\n",
    "    test_mode=False,\n",
    "    value_threshold=1e6,\n",
    ")\n",
    "\n",
    "filtered_features = md_filter.handle_features(to_save=True).shape\n",
    "filtered_metrics = md_filter.handle_metrics(to_save=True).shape\n",
    "\n",
    "print(filtered_features)\n",
    "print(filtered_metrics)"
   ],
   "id": "d78ac3880c1bea51",
   "outputs": [
    {
     "name": "stdout",
     "output_type": "stream",
     "text": [
      "(165, 217)\n",
      "(852, 18)\n"
     ]
    }
   ],
   "execution_count": 18
  },
  {
   "metadata": {},
   "cell_type": "markdown",
   "source": [
    "Target builder creates target with specific strategy (rank of absolute or relative performance, difference between best performing models)\n",
    "\n",
    "Targets will be saved here: resources/tabzilla/target"
   ],
   "id": "87e95c082e86378c"
  },
  {
   "metadata": {
    "ExecuteTime": {
     "end_time": "2025-02-12T13:57:53.058127Z",
     "start_time": "2025-02-12T13:57:52.949553Z"
    }
   },
   "cell_type": "code",
   "source": [
    "abs_perf_builder = TargetPerfBuilder(\n",
    "    md_source=md_source,\n",
    "    features_folder=\"filtered\",\n",
    "    metrics_folder=\"filtered\",\n",
    "    metric_name=metric_name,\n",
    "    perf_type=\"abs\",\n",
    "    n_bins=2,\n",
    "    strategy=\"quantile\",\n",
    "    test_mode=False,\n",
    ")\n",
    "\n",
    "rel_perf_builder = TargetPerfBuilder(\n",
    "    md_source=md_source,\n",
    "    features_folder=\"filtered\",\n",
    "    metrics_folder=\"filtered\",\n",
    "    metric_name=metric_name,\n",
    "    perf_type=\"rel\",\n",
    "    n_bins=3,\n",
    "    strategy=\"uniform\",\n",
    "    test_mode=False,\n",
    ")\n",
    "\n",
    "diff_builder = TargetDiffBuilder(\n",
    "    classes=classes_names,\n",
    "    model_classes=model_classes,\n",
    "    md_source=md_source,\n",
    "    features_folder=\"filtered\",\n",
    "    metrics_folder=\"filtered\",\n",
    "    metric_name=metric_name,\n",
    "    n_bins=3,\n",
    "    strategy=\"uniform\",\n",
    "    test_mode=False,\n",
    ")\n",
    "\n",
    "abs_perf = abs_perf_builder.handle_metrics().shape\n",
    "rel_perf = rel_perf_builder.handle_metrics().shape\n",
    "diff = diff_builder.handle_metrics().shape\n",
    "\n",
    "print(abs_perf)\n",
    "print(rel_perf)\n",
    "print(diff)"
   ],
   "id": "e39259eafdfcd4be",
   "outputs": [
    {
     "name": "stdout",
     "output_type": "stream",
     "text": [
      "(142, 6)\n",
      "(142, 6)\n",
      "(142, 1)\n"
     ]
    },
    {
     "name": "stderr",
     "output_type": "stream",
     "text": [
      "D:\\python_projects\\MetaSelect\\ms\\metadataset\\target_builder.py:255: FutureWarning: Setting an item of incompatible dtype is deprecated and will raise in a future error of pandas. Value '[[1.]\n",
      " [1.]\n",
      " [1.]\n",
      " [0.]\n",
      " [2.]\n",
      " [2.]\n",
      " [1.]\n",
      " [2.]\n",
      " [2.]\n",
      " [1.]\n",
      " [1.]\n",
      " [1.]\n",
      " [0.]\n",
      " [0.]\n",
      " [0.]\n",
      " [1.]\n",
      " [2.]\n",
      " [1.]\n",
      " [2.]\n",
      " [0.]\n",
      " [0.]\n",
      " [0.]\n",
      " [0.]\n",
      " [1.]\n",
      " [0.]\n",
      " [2.]\n",
      " [1.]\n",
      " [2.]\n",
      " [2.]\n",
      " [2.]\n",
      " [2.]\n",
      " [2.]\n",
      " [2.]\n",
      " [2.]\n",
      " [2.]\n",
      " [0.]\n",
      " [1.]\n",
      " [0.]\n",
      " [1.]\n",
      " [1.]\n",
      " [1.]\n",
      " [0.]\n",
      " [0.]\n",
      " [0.]\n",
      " [2.]\n",
      " [1.]\n",
      " [0.]\n",
      " [0.]\n",
      " [1.]\n",
      " [2.]\n",
      " [1.]\n",
      " [2.]\n",
      " [2.]\n",
      " [0.]\n",
      " [0.]\n",
      " [0.]\n",
      " [0.]\n",
      " [0.]\n",
      " [0.]\n",
      " [0.]\n",
      " [0.]\n",
      " [2.]\n",
      " [2.]\n",
      " [1.]\n",
      " [1.]\n",
      " [0.]\n",
      " [2.]\n",
      " [1.]\n",
      " [1.]\n",
      " [2.]\n",
      " [2.]\n",
      " [2.]\n",
      " [0.]\n",
      " [2.]\n",
      " [2.]\n",
      " [2.]\n",
      " [2.]\n",
      " [0.]\n",
      " [1.]\n",
      " [1.]\n",
      " [2.]\n",
      " [1.]\n",
      " [1.]\n",
      " [0.]\n",
      " [0.]\n",
      " [2.]\n",
      " [1.]\n",
      " [0.]\n",
      " [2.]\n",
      " [1.]\n",
      " [1.]\n",
      " [2.]\n",
      " [2.]\n",
      " [0.]\n",
      " [2.]\n",
      " [2.]\n",
      " [1.]\n",
      " [1.]\n",
      " [0.]\n",
      " [2.]\n",
      " [2.]\n",
      " [0.]\n",
      " [0.]\n",
      " [1.]\n",
      " [2.]\n",
      " [0.]\n",
      " [2.]\n",
      " [0.]\n",
      " [0.]\n",
      " [0.]\n",
      " [0.]\n",
      " [1.]\n",
      " [1.]\n",
      " [1.]\n",
      " [1.]\n",
      " [1.]\n",
      " [0.]\n",
      " [2.]\n",
      " [1.]\n",
      " [0.]\n",
      " [1.]\n",
      " [1.]\n",
      " [1.]\n",
      " [2.]\n",
      " [1.]\n",
      " [0.]\n",
      " [1.]\n",
      " [0.]\n",
      " [2.]\n",
      " [0.]\n",
      " [2.]\n",
      " [1.]\n",
      " [0.]\n",
      " [1.]\n",
      " [1.]\n",
      " [0.]\n",
      " [2.]\n",
      " [0.]\n",
      " [0.]\n",
      " [1.]\n",
      " [2.]\n",
      " [2.]]' has dtype incompatible with float64, please explicitly cast to a compatible dtype first.\n",
      "  diff_df.iloc[:, 0] = disc.fit_transform(X=diff_df)\n"
     ]
    }
   ],
   "execution_count": 19
  },
  {
   "metadata": {},
   "cell_type": "markdown",
   "source": [
    "Preproccesor performs data scaling with specific target. You can choose target type by passing suffix argument into preprocess method (suffix should correspond to one of the files in target folder)\n",
    "\n",
    "Preprocessed data will be saved here: resources/tabzilla/preprocessed"
   ],
   "id": "6e00b5ff2f42f81"
  },
  {
   "metadata": {
    "ExecuteTime": {
     "end_time": "2025-02-12T13:57:54.699337Z",
     "start_time": "2025-02-12T13:57:53.108129Z"
    }
   },
   "cell_type": "code",
   "source": [
    "scaler = ScalePreprocessor(\n",
    "    md_source=md_source,\n",
    "    features_folder=\"filtered\",\n",
    "    metrics_folder=\"target\",\n",
    "    to_scale=[\"power\"],\n",
    "    perf_type=\"abs\",\n",
    "    remove_outliers=False,\n",
    "    test_mode=False,\n",
    ")\n",
    "scaled_features, scaled_metrics = scaler.preprocess(\n",
    "    feature_suffix=None,\n",
    "    metrics_suffix=\"perf_abs\"\n",
    ")\n",
    "scaler.preprocess(\n",
    "    feature_suffix=None,\n",
    "    metrics_suffix=\"perf_rel\"\n",
    ")\n",
    "scaler.preprocess(\n",
    "    feature_suffix=None,\n",
    "    metrics_suffix=\"diff\"\n",
    ")\n",
    "print(scaled_features.shape)\n",
    "print(scaled_metrics.shape)"
   ],
   "id": "8f182427c2bd5fff",
   "outputs": [
    {
     "name": "stdout",
     "output_type": "stream",
     "text": [
      "(134, 217)\n",
      "(134, 6)\n"
     ]
    }
   ],
   "execution_count": 20
  },
  {
   "metadata": {
    "ExecuteTime": {
     "end_time": "2025-02-12T13:58:09.657288Z",
     "start_time": "2025-02-12T13:57:54.763277Z"
    }
   },
   "cell_type": "code",
   "source": [
    "corr_filter = CorrelationPreprocessor(\n",
    "    md_source=md_source,\n",
    "    features_folder=\"preprocessed\",\n",
    "    metrics_folder=\"preprocessed\",\n",
    "    corr_method=\"spearman\",\n",
    "    corr_value_threshold=0.9,\n",
    "    vif_value_threshold=20000,\n",
    "    vif_count_threshold=None,\n",
    "    test_mode=False,\n",
    ")\n",
    "\n",
    "corr_features, corr_metrics = corr_filter.preprocess(\n",
    "    feature_suffix=\"power\",\n",
    "    metrics_suffix=\"perf_abs\"\n",
    ")\n",
    "corr_filter.preprocess(\n",
    "    feature_suffix=\"power\",\n",
    "    metrics_suffix=\"perf_rel\"\n",
    ")\n",
    "corr_filter.preprocess(\n",
    "    feature_suffix=\"power\",\n",
    "    metrics_suffix=\"diff\"\n",
    ")\n",
    "print(corr_features.shape)\n",
    "print(corr_metrics.shape)"
   ],
   "id": "ca6525094b6c78d7",
   "outputs": [
    {
     "name": "stdout",
     "output_type": "stream",
     "text": [
      "(134, 123)\n",
      "(134, 6)\n"
     ]
    }
   ],
   "execution_count": 21
  },
  {
   "metadata": {
    "ExecuteTime": {
     "end_time": "2025-02-15T13:08:09.764468Z",
     "start_time": "2025-02-15T13:08:08.841127Z"
    }
   },
   "cell_type": "code",
   "source": [
    "from ms.metadataset.features_sampler import FeaturesSampler\n",
    "\n",
    "f_sampler = FeaturesSampler(\n",
    "    md_source=md_source,\n",
    "    features_folder=\"preprocessed\",\n",
    "    metrics_folder=\"preprocessed\",\n",
    "    test_mode=False\n",
    ")\n",
    "f_sampler.sample_features(feature_suffixes=[\"power\"])"
   ],
   "id": "4396a831ed5e67e5",
   "outputs": [
    {
     "ename": "NameError",
     "evalue": "name 'md_source' is not defined",
     "output_type": "error",
     "traceback": [
      "\u001B[1;31m---------------------------------------------------------------------------\u001B[0m",
      "\u001B[1;31mNameError\u001B[0m                                 Traceback (most recent call last)",
      "Cell \u001B[1;32mIn[1], line 4\u001B[0m\n\u001B[0;32m      1\u001B[0m \u001B[38;5;28;01mfrom\u001B[39;00m\u001B[38;5;250m \u001B[39m\u001B[38;5;21;01mms\u001B[39;00m\u001B[38;5;21;01m.\u001B[39;00m\u001B[38;5;21;01mmetadataset\u001B[39;00m\u001B[38;5;21;01m.\u001B[39;00m\u001B[38;5;21;01mfeatures_sampler\u001B[39;00m\u001B[38;5;250m \u001B[39m\u001B[38;5;28;01mimport\u001B[39;00m FeaturesSampler\n\u001B[0;32m      3\u001B[0m f_sampler \u001B[38;5;241m=\u001B[39m FeaturesSampler(\n\u001B[1;32m----> 4\u001B[0m     md_source\u001B[38;5;241m=\u001B[39m\u001B[43mmd_source\u001B[49m,\n\u001B[0;32m      5\u001B[0m     features_folder\u001B[38;5;241m=\u001B[39m\u001B[38;5;124m\"\u001B[39m\u001B[38;5;124mpreprocessed\u001B[39m\u001B[38;5;124m\"\u001B[39m,\n\u001B[0;32m      6\u001B[0m     metrics_folder\u001B[38;5;241m=\u001B[39m\u001B[38;5;124m\"\u001B[39m\u001B[38;5;124mpreprocessed\u001B[39m\u001B[38;5;124m\"\u001B[39m,\n\u001B[0;32m      7\u001B[0m     test_mode\u001B[38;5;241m=\u001B[39m\u001B[38;5;28;01mFalse\u001B[39;00m\n\u001B[0;32m      8\u001B[0m )\n\u001B[0;32m      9\u001B[0m f_sampler\u001B[38;5;241m.\u001B[39msample_features(feature_suffixes\u001B[38;5;241m=\u001B[39m\u001B[38;5;124m\"\u001B[39m\u001B[38;5;124mpower\u001B[39m\u001B[38;5;124m\"\u001B[39m)\n",
      "\u001B[1;31mNameError\u001B[0m: name 'md_source' is not defined"
     ]
    }
   ],
   "execution_count": 1
  },
  {
   "metadata": {},
   "cell_type": "code",
   "outputs": [],
   "execution_count": null,
   "source": "",
   "id": "3b0cd17b642a99e6"
  }
 ],
 "metadata": {
  "kernelspec": {
   "display_name": "Python 3",
   "language": "python",
   "name": "python3"
  },
  "language_info": {
   "codemirror_mode": {
    "name": "ipython",
    "version": 2
   },
   "file_extension": ".py",
   "mimetype": "text/x-python",
   "name": "python",
   "nbconvert_exporter": "python",
   "pygments_lexer": "ipython2",
   "version": "2.7.6"
  }
 },
 "nbformat": 4,
 "nbformat_minor": 5
}
