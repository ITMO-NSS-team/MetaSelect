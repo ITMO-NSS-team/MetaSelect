{
 "cells": [
  {
   "cell_type": "code",
   "id": "initial_id",
   "metadata": {
    "collapsed": true,
    "ExecuteTime": {
     "end_time": "2025-02-17T21:23:27.829105Z",
     "start_time": "2025-02-17T21:23:27.823103Z"
    }
   },
   "source": [
    "from ms.handler.metadata_source import TabzillaSource\n",
    "from ms.metaresearch.selectors.model_free import *\n",
    "from ms.metaresearch.selectors.model_based import *\n",
    "from ms.metaresearch.selectors.causal import *\n",
    "from ms.metaresearch.selectors.base import *"
   ],
   "outputs": [],
   "execution_count": 14
  },
  {
   "metadata": {
    "ExecuteTime": {
     "end_time": "2025-02-17T21:23:27.860683Z",
     "start_time": "2025-02-17T21:23:27.844107Z"
    }
   },
   "cell_type": "code",
   "source": "md_source = TabzillaSource()",
   "id": "3f89f1d990ca8200",
   "outputs": [],
   "execution_count": 15
  },
  {
   "metadata": {
    "ExecuteTime": {
     "end_time": "2025-02-17T21:23:27.892685Z",
     "start_time": "2025-02-17T21:23:27.878684Z"
    }
   },
   "cell_type": "code",
   "source": [
    "corr = CorrelationSelector(md_source=md_source)\n",
    "f_val = FValueSelector(md_source=md_source)\n",
    "mi = MutualInfoSelector(md_source=md_source)\n",
    "# chi2 = Chi2Selector(md_source=md_source)\n",
    "xgb = XGBSelector(md_source=md_source)\n",
    "lasso = LassoSelector(md_source=md_source)\n",
    "rfe = RFESelector(md_source=md_source)\n",
    "te = TESelector(md_source=md_source)\n",
    "# base = BaseSelector(md_source=md_source)"
   ],
   "id": "6b4030424d257458",
   "outputs": [],
   "execution_count": 16
  },
  {
   "metadata": {
    "ExecuteTime": {
     "end_time": "2025-02-17T21:23:27.923689Z",
     "start_time": "2025-02-17T21:23:27.909691Z"
    }
   },
   "cell_type": "code",
   "source": "selectors = [corr, f_val, mi, xgb, lasso, rfe, te]",
   "id": "ffa275534efab75f",
   "outputs": [],
   "execution_count": 17
  },
  {
   "metadata": {
    "ExecuteTime": {
     "end_time": "2025-02-17T21:23:27.954842Z",
     "start_time": "2025-02-17T21:23:27.941844Z"
    }
   },
   "cell_type": "code",
   "source": [
    "features_suffixes = [\"power\"]\n",
    "# metrics_suffixes = [\"perf_abs\", \"perf_rel\", \"diff\"]\n",
    "metrics_suffixes = [\"perf_abs\"]"
   ],
   "id": "8956c8ce345f1465",
   "outputs": [],
   "execution_count": 18
  },
  {
   "metadata": {
    "ExecuteTime": {
     "end_time": "2025-02-17T21:23:42.987371Z",
     "start_time": "2025-02-17T21:23:27.972847Z"
    }
   },
   "cell_type": "code",
   "source": [
    "for features_suffix in features_suffixes:\n",
    "    print(features_suffix)\n",
    "    for metrics_suffix in metrics_suffixes:\n",
    "        print(metrics_suffix)\n",
    "        for selector in selectors:\n",
    "            print(selector)\n",
    "            selector.perform(\n",
    "                features_suffix=features_suffix,\n",
    "                metrics_suffix=metrics_suffix,\n",
    "            )"
   ],
   "id": "f13903a9ca179ea8",
   "outputs": [
    {
     "name": "stderr",
     "output_type": "stream",
     "text": [
      "\n",
      "KeyboardInterrupt\n",
      "\n"
     ]
    }
   ],
   "execution_count": 19
  }
 ],
 "metadata": {
  "kernelspec": {
   "display_name": "Python 3",
   "language": "python",
   "name": "python3"
  },
  "language_info": {
   "codemirror_mode": {
    "name": "ipython",
    "version": 2
   },
   "file_extension": ".py",
   "mimetype": "text/x-python",
   "name": "python",
   "nbconvert_exporter": "python",
   "pygments_lexer": "ipython2",
   "version": "2.7.6"
  }
 },
 "nbformat": 4,
 "nbformat_minor": 5
}
