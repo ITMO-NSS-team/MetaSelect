{
 "cells": [
  {
   "cell_type": "code",
   "execution_count": null,
   "id": "initial_id",
   "metadata": {
    "collapsed": true
   },
   "outputs": [],
   "source": [
    "import pandas as pd\n",
    "\n",
    "from ms.handler.metadata_source import TabzillaSource\n",
    "from ms.metaresearch.ml_method import MLSelector\n",
    "from ms.metaresearch.model_free_method import ModelFreeSelector\n",
    "from ms.metaresearch.selector_data import SelectorData"
   ]
  },
  {
   "metadata": {},
   "cell_type": "code",
   "outputs": [],
   "execution_count": null,
   "source": [
    "corr_config = {\"method_name\": \"corr\", \"corr_type\": \"spearman\", \"out_type\": \"multi\"}\n",
    "f_value_config = {\"method_name\": \"f_value\", \"out_type\": \"multi\"}\n",
    "mi_config = {\"method_name\": \"mi\", \"out_type\": \"multi\"}\n",
    "chi2_config = {\"method_name\": \"chi2\", \"out_type\": \"multi\"}\n",
    "xgb_config = {\"method_name\": \"xgb\", \"out_type\": \"multi\"}\n",
    "lasso_config = {\"method_name\": \"lasso\", \"out_type\": \"multi\"}\n",
    "rfe_config = {\"method_name\": \"rfe\", \"out_type\": \"multi\"}\n",
    "metrics_folder = \"preprocessed\""
   ],
   "id": "6f57359749ba62ec"
  },
  {
   "metadata": {},
   "cell_type": "code",
   "outputs": [],
   "execution_count": null,
   "source": [
    "mf_selector = ModelFreeSelector(\n",
    "    md_source=TabzillaSource(),\n",
    "    features_folder=\"preprocessed\",\n",
    "    metrics_folder=metrics_folder,\n",
    "    test_mode=False,\n",
    ")\n",
    "ml_selector = MLSelector(\n",
    "    md_source=TabzillaSource(),\n",
    "    features_folder=\"preprocessed\",\n",
    "    metrics_folder=metrics_folder,\n",
    "    test_mode=False,\n",
    ")"
   ],
   "id": "328c75d819b71625"
  },
  {
   "metadata": {},
   "cell_type": "code",
   "outputs": [],
   "execution_count": null,
   "source": [
    "features_suffixes = [\"power\"]\n",
    "metrics_suffixes = [\"perf_abs\", \"perf_rel\", \"diff\"]\n",
    "mf_configs = [corr_config, f_value_config, mi_config]\n",
    "ml_configs = [xgb_config, lasso_config, rfe_config]"
   ],
   "id": "8956c8ce345f1465"
  },
  {
   "metadata": {},
   "cell_type": "code",
   "outputs": [],
   "execution_count": null,
   "source": [
    "for features_suffix in features_suffixes:\n",
    "    for metrics_suffix in metrics_suffixes:\n",
    "        for mf_config in mf_configs:\n",
    "            mf_selector.perform(\n",
    "                features_suffix=features_suffix,\n",
    "                metrics_suffix=metrics_suffix,\n",
    "                selector_config=mf_config\n",
    "            )\n",
    "        for ml_config in ml_configs:\n",
    "            ml_selector.perform(\n",
    "                features_suffix=features_suffix,\n",
    "                metrics_suffix=metrics_suffix,\n",
    "                selector_config=ml_config\n",
    "            )"
   ],
   "id": "f13903a9ca179ea8"
  }
 ],
 "metadata": {
  "kernelspec": {
   "display_name": "Python 3",
   "language": "python",
   "name": "python3"
  },
  "language_info": {
   "codemirror_mode": {
    "name": "ipython",
    "version": 2
   },
   "file_extension": ".py",
   "mimetype": "text/x-python",
   "name": "python",
   "nbconvert_exporter": "python",
   "pygments_lexer": "ipython2",
   "version": "2.7.6"
  }
 },
 "nbformat": 4,
 "nbformat_minor": 5
}
