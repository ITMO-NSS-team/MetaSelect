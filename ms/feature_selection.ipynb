{
 "cells": [
  {
   "cell_type": "code",
   "id": "initial_id",
   "metadata": {
    "collapsed": true,
    "ExecuteTime": {
     "end_time": "2025-02-17T16:57:08.674279Z",
     "start_time": "2025-02-17T16:57:08.664275Z"
    }
   },
   "source": [
    "import pandas as pd\n",
    "\n",
    "from ms.handler.metadata_source import TabzillaSource\n",
    "from ms.metaresearch.selectors.model_free import *\n",
    "from ms.metaresearch.selectors.model_based import *\n",
    "from ms.metaresearch.selectors.causal import *"
   ],
   "outputs": [],
   "execution_count": 2
  },
  {
   "metadata": {
    "ExecuteTime": {
     "end_time": "2025-02-17T16:57:09.239820Z",
     "start_time": "2025-02-17T16:57:09.222822Z"
    }
   },
   "cell_type": "code",
   "source": "md_source = TabzillaSource()",
   "id": "3f89f1d990ca8200",
   "outputs": [],
   "execution_count": 3
  },
  {
   "metadata": {
    "ExecuteTime": {
     "end_time": "2025-02-17T16:57:10.241911Z",
     "start_time": "2025-02-17T16:57:10.227908Z"
    }
   },
   "cell_type": "code",
   "source": [
    "corr = CorrelationSelector(md_source=md_source)\n",
    "f_val = FValueSelector(md_source=md_source)\n",
    "mi = MutualInfoSelector(md_source=md_source)\n",
    "chi2 = Chi2Selector(md_source=md_source)\n",
    "xgb = XGBSelector(md_source=md_source)\n",
    "lasso = LassoSelector(md_source=md_source)\n",
    "rfe = RFESelector(md_source=md_source)\n",
    "te = TESelector(md_source=md_source)"
   ],
   "id": "6b4030424d257458",
   "outputs": [],
   "execution_count": 4
  },
  {
   "metadata": {
    "ExecuteTime": {
     "end_time": "2025-02-17T16:57:11.036699Z",
     "start_time": "2025-02-17T16:57:11.028700Z"
    }
   },
   "cell_type": "code",
   "source": "selectors = [corr]#, f_val, mi, chi2, xgb, lasso, rfe, te]",
   "id": "ffa275534efab75f",
   "outputs": [],
   "execution_count": 5
  },
  {
   "metadata": {
    "ExecuteTime": {
     "end_time": "2025-02-17T16:57:11.363589Z",
     "start_time": "2025-02-17T16:57:11.354589Z"
    }
   },
   "cell_type": "code",
   "source": [
    "features_suffixes = [\"power\"]\n",
    "metrics_suffixes = [\"perf_abs\"]"
   ],
   "id": "8956c8ce345f1465",
   "outputs": [],
   "execution_count": 6
  },
  {
   "metadata": {
    "ExecuteTime": {
     "end_time": "2025-02-17T16:57:20.557568Z",
     "start_time": "2025-02-17T16:57:11.934541Z"
    }
   },
   "cell_type": "code",
   "source": [
    "for features_suffix in features_suffixes:\n",
    "    for metrics_suffix in metrics_suffixes:\n",
    "        for selector in selectors:\n",
    "            selector.perform(\n",
    "                features_suffix=features_suffix,\n",
    "                metrics_suffix=metrics_suffix,\n",
    "            )"
   ],
   "id": "f13903a9ca179ea8",
   "outputs": [],
   "execution_count": 7
  },
  {
   "metadata": {},
   "cell_type": "code",
   "outputs": [],
   "execution_count": null,
   "source": "",
   "id": "414a2b7fe69084a9"
  }
 ],
 "metadata": {
  "kernelspec": {
   "display_name": "Python 3",
   "language": "python",
   "name": "python3"
  },
  "language_info": {
   "codemirror_mode": {
    "name": "ipython",
    "version": 2
   },
   "file_extension": ".py",
   "mimetype": "text/x-python",
   "name": "python",
   "nbconvert_exporter": "python",
   "pygments_lexer": "ipython2",
   "version": "2.7.6"
  }
 },
 "nbformat": 4,
 "nbformat_minor": 5
}
